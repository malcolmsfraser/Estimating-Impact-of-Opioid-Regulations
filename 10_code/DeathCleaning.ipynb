{
 "cells": [
  {
   "cell_type": "code",
   "execution_count": 1,
   "metadata": {},
   "outputs": [],
   "source": [
    "import pandas as pd\n",
    "from zipfile import ZipFile\n",
    "import re"
   ]
  },
  {
   "cell_type": "code",
   "execution_count": 2,
   "metadata": {},
   "outputs": [],
   "source": [
    "original_zip = ZipFile('US_VitalStatistics.zip', 'r')\n",
    "new_zip = ZipFile('new_archve.zip', 'w')\n",
    "for item in original_zip.infolist():\n",
    "    buffer = original_zip.read(item.filename)\n",
    "    if not str(item.filename).startswith('__MACOSX/'):\n",
    "        new_zip.writestr(item, buffer)\n",
    "new_zip.close()\n",
    "original_zip.close()"
   ]
  },
  {
   "cell_type": "code",
   "execution_count": 3,
   "metadata": {},
   "outputs": [],
   "source": [
    "new_zip = ZipFile('new_archve.zip', 'r')"
   ]
  },
  {
   "cell_type": "code",
   "execution_count": 4,
   "metadata": {},
   "outputs": [],
   "source": [
    "dfs = {}\n",
    "\n",
    "for text_file in new_zip.infolist():\n",
    "    dfs[re.search('2\\d\\d\\d', text_file.filename).group(0)] = pd.read_csv(new_zip.open(text_file.filename), sep = \"\\t\", usecols = [1, 2, 3, 5, 7])[:-15]"
   ]
  },
  {
   "cell_type": "code",
   "execution_count": 5,
   "metadata": {},
   "outputs": [
    {
     "data": {
      "text/plain": [
       "dict_keys(['2009', '2008', '2003', '2014', '2015', '2005', '2011', '2010', '2004', '2012', '2006', '2007', '2013'])"
      ]
     },
     "execution_count": 5,
     "metadata": {},
     "output_type": "execute_result"
    }
   ],
   "source": [
    "dfs.keys()"
   ]
  },
  {
   "cell_type": "code",
   "execution_count": 6,
   "metadata": {},
   "outputs": [],
   "source": [
    "origin = pd.DataFrame({})\n",
    "for key in dfs.keys():\n",
    "    origin = origin.append(dfs[key])"
   ]
  },
  {
   "cell_type": "code",
   "execution_count": 7,
   "metadata": {},
   "outputs": [
    {
     "data": {
      "text/plain": [
       "array(['Prince of Wales-Outer Ketchikan Census Area, AK',\n",
       "       'Skagway-Hoonah-Angoon Census Area, AK',\n",
       "       'Wrangell-Petersburg Census Area, AK', 'Bedford city, VA',\n",
       "       'Clifton Forge city, VA'], dtype=object)"
      ]
     },
     "execution_count": 7,
     "metadata": {},
     "output_type": "execute_result"
    }
   ],
   "source": [
    "origin[origin['Deaths'] == 'Missing']['County'].unique()"
   ]
  },
  {
   "cell_type": "code",
   "execution_count": 8,
   "metadata": {},
   "outputs": [],
   "source": [
    "index_names = origin[origin['Deaths'] == 'Missing'].index"
   ]
  },
  {
   "cell_type": "code",
   "execution_count": 9,
   "metadata": {},
   "outputs": [],
   "source": [
    "origin = origin.drop(index_names)"
   ]
  },
  {
   "cell_type": "code",
   "execution_count": 10,
   "metadata": {},
   "outputs": [],
   "source": [
    "origin['Deaths'] = origin['Deaths'].astype('int64')\n",
    "origin['Year'] = origin['Year'].astype('int64')\n",
    "origin['County Code'] = origin['County Code'].astype('int64')"
   ]
  },
  {
   "cell_type": "code",
   "execution_count": 11,
   "metadata": {},
   "outputs": [],
   "source": [
    "totalDeath = origin.groupby(['County','Year','County Code'], as_index = False).sum()[['County','County Code','Year','Deaths']].rename({'Deaths':'TotalDeath'}, axis = 'columns')"
   ]
  },
  {
   "cell_type": "code",
   "execution_count": 12,
   "metadata": {},
   "outputs": [
    {
     "data": {
      "text/html": [
       "<div>\n",
       "<style scoped>\n",
       "    .dataframe tbody tr th:only-of-type {\n",
       "        vertical-align: middle;\n",
       "    }\n",
       "\n",
       "    .dataframe tbody tr th {\n",
       "        vertical-align: top;\n",
       "    }\n",
       "\n",
       "    .dataframe thead th {\n",
       "        text-align: right;\n",
       "    }\n",
       "</style>\n",
       "<table border=\"1\" class=\"dataframe\">\n",
       "  <thead>\n",
       "    <tr style=\"text-align: right;\">\n",
       "      <th></th>\n",
       "      <th>County</th>\n",
       "      <th>County Code</th>\n",
       "      <th>Year</th>\n",
       "      <th>TotalDeath</th>\n",
       "    </tr>\n",
       "  </thead>\n",
       "  <tbody>\n",
       "    <tr>\n",
       "      <th>0</th>\n",
       "      <td>Abbeville County, SC</td>\n",
       "      <td>45001</td>\n",
       "      <td>2003</td>\n",
       "      <td>266</td>\n",
       "    </tr>\n",
       "    <tr>\n",
       "      <th>1</th>\n",
       "      <td>Abbeville County, SC</td>\n",
       "      <td>45001</td>\n",
       "      <td>2004</td>\n",
       "      <td>239</td>\n",
       "    </tr>\n",
       "    <tr>\n",
       "      <th>2</th>\n",
       "      <td>Abbeville County, SC</td>\n",
       "      <td>45001</td>\n",
       "      <td>2005</td>\n",
       "      <td>212</td>\n",
       "    </tr>\n",
       "    <tr>\n",
       "      <th>3</th>\n",
       "      <td>Abbeville County, SC</td>\n",
       "      <td>45001</td>\n",
       "      <td>2006</td>\n",
       "      <td>278</td>\n",
       "    </tr>\n",
       "    <tr>\n",
       "      <th>4</th>\n",
       "      <td>Abbeville County, SC</td>\n",
       "      <td>45001</td>\n",
       "      <td>2007</td>\n",
       "      <td>265</td>\n",
       "    </tr>\n",
       "    <tr>\n",
       "      <th>...</th>\n",
       "      <td>...</td>\n",
       "      <td>...</td>\n",
       "      <td>...</td>\n",
       "      <td>...</td>\n",
       "    </tr>\n",
       "    <tr>\n",
       "      <th>40183</th>\n",
       "      <td>Ziebach County, SD</td>\n",
       "      <td>46137</td>\n",
       "      <td>2011</td>\n",
       "      <td>10</td>\n",
       "    </tr>\n",
       "    <tr>\n",
       "      <th>40184</th>\n",
       "      <td>Ziebach County, SD</td>\n",
       "      <td>46137</td>\n",
       "      <td>2012</td>\n",
       "      <td>10</td>\n",
       "    </tr>\n",
       "    <tr>\n",
       "      <th>40185</th>\n",
       "      <td>Ziebach County, SD</td>\n",
       "      <td>46137</td>\n",
       "      <td>2013</td>\n",
       "      <td>11</td>\n",
       "    </tr>\n",
       "    <tr>\n",
       "      <th>40186</th>\n",
       "      <td>Ziebach County, SD</td>\n",
       "      <td>46137</td>\n",
       "      <td>2014</td>\n",
       "      <td>11</td>\n",
       "    </tr>\n",
       "    <tr>\n",
       "      <th>40187</th>\n",
       "      <td>Ziebach County, SD</td>\n",
       "      <td>46137</td>\n",
       "      <td>2015</td>\n",
       "      <td>17</td>\n",
       "    </tr>\n",
       "  </tbody>\n",
       "</table>\n",
       "<p>40188 rows × 4 columns</p>\n",
       "</div>"
      ],
      "text/plain": [
       "                     County  County Code  Year  TotalDeath\n",
       "0      Abbeville County, SC        45001  2003         266\n",
       "1      Abbeville County, SC        45001  2004         239\n",
       "2      Abbeville County, SC        45001  2005         212\n",
       "3      Abbeville County, SC        45001  2006         278\n",
       "4      Abbeville County, SC        45001  2007         265\n",
       "...                     ...          ...   ...         ...\n",
       "40183    Ziebach County, SD        46137  2011          10\n",
       "40184    Ziebach County, SD        46137  2012          10\n",
       "40185    Ziebach County, SD        46137  2013          11\n",
       "40186    Ziebach County, SD        46137  2014          11\n",
       "40187    Ziebach County, SD        46137  2015          17\n",
       "\n",
       "[40188 rows x 4 columns]"
      ]
     },
     "execution_count": 12,
     "metadata": {},
     "output_type": "execute_result"
    }
   ],
   "source": [
    "totalDeath"
   ]
  },
  {
   "cell_type": "code",
   "execution_count": 13,
   "metadata": {},
   "outputs": [],
   "source": [
    "names = []\n",
    "for name in origin['Drug/Alcohol Induced Cause'].unique():\n",
    "    if re.match('Drug poisonings.*', name):\n",
    "        names.append(name)"
   ]
  },
  {
   "cell_type": "code",
   "execution_count": 14,
   "metadata": {},
   "outputs": [],
   "source": [
    "interDose = origin[origin['Drug/Alcohol Induced Cause'].isin(names)]"
   ]
  },
  {
   "cell_type": "code",
   "execution_count": 15,
   "metadata": {},
   "outputs": [],
   "source": [
    "finalDose = interDose.groupby(['County', 'County Code', 'Year'], as_index = False).sum()[['County','County Code','Year','Deaths']].rename({'Deaths':'TotalOverdose'}, axis = 'columns')"
   ]
  },
  {
   "cell_type": "code",
   "execution_count": 16,
   "metadata": {},
   "outputs": [
    {
     "data": {
      "text/html": [
       "<div>\n",
       "<style scoped>\n",
       "    .dataframe tbody tr th:only-of-type {\n",
       "        vertical-align: middle;\n",
       "    }\n",
       "\n",
       "    .dataframe tbody tr th {\n",
       "        vertical-align: top;\n",
       "    }\n",
       "\n",
       "    .dataframe thead th {\n",
       "        text-align: right;\n",
       "    }\n",
       "</style>\n",
       "<table border=\"1\" class=\"dataframe\">\n",
       "  <thead>\n",
       "    <tr style=\"text-align: right;\">\n",
       "      <th></th>\n",
       "      <th>County</th>\n",
       "      <th>County Code</th>\n",
       "      <th>Year</th>\n",
       "      <th>TotalOverdose</th>\n",
       "    </tr>\n",
       "  </thead>\n",
       "  <tbody>\n",
       "    <tr>\n",
       "      <th>0</th>\n",
       "      <td>Acadia Parish, LA</td>\n",
       "      <td>22001</td>\n",
       "      <td>2003</td>\n",
       "      <td>11</td>\n",
       "    </tr>\n",
       "    <tr>\n",
       "      <th>1</th>\n",
       "      <td>Acadia Parish, LA</td>\n",
       "      <td>22001</td>\n",
       "      <td>2005</td>\n",
       "      <td>23</td>\n",
       "    </tr>\n",
       "    <tr>\n",
       "      <th>2</th>\n",
       "      <td>Acadia Parish, LA</td>\n",
       "      <td>22001</td>\n",
       "      <td>2006</td>\n",
       "      <td>19</td>\n",
       "    </tr>\n",
       "    <tr>\n",
       "      <th>3</th>\n",
       "      <td>Acadia Parish, LA</td>\n",
       "      <td>22001</td>\n",
       "      <td>2007</td>\n",
       "      <td>19</td>\n",
       "    </tr>\n",
       "    <tr>\n",
       "      <th>4</th>\n",
       "      <td>Acadia Parish, LA</td>\n",
       "      <td>22001</td>\n",
       "      <td>2009</td>\n",
       "      <td>11</td>\n",
       "    </tr>\n",
       "    <tr>\n",
       "      <th>...</th>\n",
       "      <td>...</td>\n",
       "      <td>...</td>\n",
       "      <td>...</td>\n",
       "      <td>...</td>\n",
       "    </tr>\n",
       "    <tr>\n",
       "      <th>7826</th>\n",
       "      <td>Yuma County, AZ</td>\n",
       "      <td>4027</td>\n",
       "      <td>2011</td>\n",
       "      <td>20</td>\n",
       "    </tr>\n",
       "    <tr>\n",
       "      <th>7827</th>\n",
       "      <td>Yuma County, AZ</td>\n",
       "      <td>4027</td>\n",
       "      <td>2012</td>\n",
       "      <td>32</td>\n",
       "    </tr>\n",
       "    <tr>\n",
       "      <th>7828</th>\n",
       "      <td>Yuma County, AZ</td>\n",
       "      <td>4027</td>\n",
       "      <td>2013</td>\n",
       "      <td>22</td>\n",
       "    </tr>\n",
       "    <tr>\n",
       "      <th>7829</th>\n",
       "      <td>Yuma County, AZ</td>\n",
       "      <td>4027</td>\n",
       "      <td>2014</td>\n",
       "      <td>35</td>\n",
       "    </tr>\n",
       "    <tr>\n",
       "      <th>7830</th>\n",
       "      <td>Yuma County, AZ</td>\n",
       "      <td>4027</td>\n",
       "      <td>2015</td>\n",
       "      <td>24</td>\n",
       "    </tr>\n",
       "  </tbody>\n",
       "</table>\n",
       "<p>7831 rows × 4 columns</p>\n",
       "</div>"
      ],
      "text/plain": [
       "                 County  County Code  Year  TotalOverdose\n",
       "0     Acadia Parish, LA        22001  2003             11\n",
       "1     Acadia Parish, LA        22001  2005             23\n",
       "2     Acadia Parish, LA        22001  2006             19\n",
       "3     Acadia Parish, LA        22001  2007             19\n",
       "4     Acadia Parish, LA        22001  2009             11\n",
       "...                 ...          ...   ...            ...\n",
       "7826    Yuma County, AZ         4027  2011             20\n",
       "7827    Yuma County, AZ         4027  2012             32\n",
       "7828    Yuma County, AZ         4027  2013             22\n",
       "7829    Yuma County, AZ         4027  2014             35\n",
       "7830    Yuma County, AZ         4027  2015             24\n",
       "\n",
       "[7831 rows x 4 columns]"
      ]
     },
     "execution_count": 16,
     "metadata": {},
     "output_type": "execute_result"
    }
   ],
   "source": [
    "finalDose"
   ]
  },
  {
   "cell_type": "code",
   "execution_count": 17,
   "metadata": {},
   "outputs": [],
   "source": [
    "final = pd.merge(finalDose, totalDeath, on = ['County', 'County Code', 'Year'])"
   ]
  },
  {
   "cell_type": "code",
   "execution_count": 18,
   "metadata": {},
   "outputs": [],
   "source": [
    "final['OverdoseProp'] = final['TotalOverdose'] / final['TotalDeath']"
   ]
  },
  {
   "cell_type": "code",
   "execution_count": 19,
   "metadata": {},
   "outputs": [],
   "source": [
    "final[['County','State']] = final.County.str.split(\", \",expand=True,)"
   ]
  },
  {
   "cell_type": "code",
   "execution_count": 20,
   "metadata": {},
   "outputs": [],
   "source": [
    "final['PolicyState'] = (final['State'] == 'FL') | ((final['State'] == 'TX')) | (final['State'] == 'WA')"
   ]
  },
  {
   "cell_type": "code",
   "execution_count": 21,
   "metadata": {},
   "outputs": [],
   "source": [
    "final['Post'] = ((final['State'] == 'FL') & (final['Year'] >= 2010)) | ((final['State'] == 'TX') & (final['Year'] >= 2007)) | ((final['State'] == 'WA') & (final['Year'] >= 2012))"
   ]
  },
  {
   "cell_type": "code",
   "execution_count": 22,
   "metadata": {},
   "outputs": [
    {
     "data": {
      "text/html": [
       "<div>\n",
       "<style scoped>\n",
       "    .dataframe tbody tr th:only-of-type {\n",
       "        vertical-align: middle;\n",
       "    }\n",
       "\n",
       "    .dataframe tbody tr th {\n",
       "        vertical-align: top;\n",
       "    }\n",
       "\n",
       "    .dataframe thead th {\n",
       "        text-align: right;\n",
       "    }\n",
       "</style>\n",
       "<table border=\"1\" class=\"dataframe\">\n",
       "  <thead>\n",
       "    <tr style=\"text-align: right;\">\n",
       "      <th></th>\n",
       "      <th>County</th>\n",
       "      <th>County Code</th>\n",
       "      <th>Year</th>\n",
       "      <th>TotalOverdose</th>\n",
       "      <th>TotalDeath</th>\n",
       "      <th>OverdoseProp</th>\n",
       "      <th>State</th>\n",
       "      <th>PolicyState</th>\n",
       "      <th>Post</th>\n",
       "    </tr>\n",
       "  </thead>\n",
       "  <tbody>\n",
       "    <tr>\n",
       "      <th>0</th>\n",
       "      <td>Acadia Parish</td>\n",
       "      <td>22001</td>\n",
       "      <td>2003</td>\n",
       "      <td>11</td>\n",
       "      <td>602</td>\n",
       "      <td>0.018272</td>\n",
       "      <td>LA</td>\n",
       "      <td>False</td>\n",
       "      <td>False</td>\n",
       "    </tr>\n",
       "    <tr>\n",
       "      <th>1</th>\n",
       "      <td>Acadia Parish</td>\n",
       "      <td>22001</td>\n",
       "      <td>2005</td>\n",
       "      <td>23</td>\n",
       "      <td>674</td>\n",
       "      <td>0.034125</td>\n",
       "      <td>LA</td>\n",
       "      <td>False</td>\n",
       "      <td>False</td>\n",
       "    </tr>\n",
       "    <tr>\n",
       "      <th>2</th>\n",
       "      <td>Acadia Parish</td>\n",
       "      <td>22001</td>\n",
       "      <td>2006</td>\n",
       "      <td>19</td>\n",
       "      <td>636</td>\n",
       "      <td>0.029874</td>\n",
       "      <td>LA</td>\n",
       "      <td>False</td>\n",
       "      <td>False</td>\n",
       "    </tr>\n",
       "    <tr>\n",
       "      <th>3</th>\n",
       "      <td>Acadia Parish</td>\n",
       "      <td>22001</td>\n",
       "      <td>2007</td>\n",
       "      <td>19</td>\n",
       "      <td>655</td>\n",
       "      <td>0.029008</td>\n",
       "      <td>LA</td>\n",
       "      <td>False</td>\n",
       "      <td>False</td>\n",
       "    </tr>\n",
       "    <tr>\n",
       "      <th>4</th>\n",
       "      <td>Acadia Parish</td>\n",
       "      <td>22001</td>\n",
       "      <td>2009</td>\n",
       "      <td>11</td>\n",
       "      <td>603</td>\n",
       "      <td>0.018242</td>\n",
       "      <td>LA</td>\n",
       "      <td>False</td>\n",
       "      <td>False</td>\n",
       "    </tr>\n",
       "    <tr>\n",
       "      <th>...</th>\n",
       "      <td>...</td>\n",
       "      <td>...</td>\n",
       "      <td>...</td>\n",
       "      <td>...</td>\n",
       "      <td>...</td>\n",
       "      <td>...</td>\n",
       "      <td>...</td>\n",
       "      <td>...</td>\n",
       "      <td>...</td>\n",
       "    </tr>\n",
       "    <tr>\n",
       "      <th>7826</th>\n",
       "      <td>Yuma County</td>\n",
       "      <td>4027</td>\n",
       "      <td>2011</td>\n",
       "      <td>20</td>\n",
       "      <td>1380</td>\n",
       "      <td>0.014493</td>\n",
       "      <td>AZ</td>\n",
       "      <td>False</td>\n",
       "      <td>False</td>\n",
       "    </tr>\n",
       "    <tr>\n",
       "      <th>7827</th>\n",
       "      <td>Yuma County</td>\n",
       "      <td>4027</td>\n",
       "      <td>2012</td>\n",
       "      <td>32</td>\n",
       "      <td>1415</td>\n",
       "      <td>0.022615</td>\n",
       "      <td>AZ</td>\n",
       "      <td>False</td>\n",
       "      <td>False</td>\n",
       "    </tr>\n",
       "    <tr>\n",
       "      <th>7828</th>\n",
       "      <td>Yuma County</td>\n",
       "      <td>4027</td>\n",
       "      <td>2013</td>\n",
       "      <td>22</td>\n",
       "      <td>1331</td>\n",
       "      <td>0.016529</td>\n",
       "      <td>AZ</td>\n",
       "      <td>False</td>\n",
       "      <td>False</td>\n",
       "    </tr>\n",
       "    <tr>\n",
       "      <th>7829</th>\n",
       "      <td>Yuma County</td>\n",
       "      <td>4027</td>\n",
       "      <td>2014</td>\n",
       "      <td>35</td>\n",
       "      <td>1423</td>\n",
       "      <td>0.024596</td>\n",
       "      <td>AZ</td>\n",
       "      <td>False</td>\n",
       "      <td>False</td>\n",
       "    </tr>\n",
       "    <tr>\n",
       "      <th>7830</th>\n",
       "      <td>Yuma County</td>\n",
       "      <td>4027</td>\n",
       "      <td>2015</td>\n",
       "      <td>24</td>\n",
       "      <td>1421</td>\n",
       "      <td>0.016890</td>\n",
       "      <td>AZ</td>\n",
       "      <td>False</td>\n",
       "      <td>False</td>\n",
       "    </tr>\n",
       "  </tbody>\n",
       "</table>\n",
       "<p>7831 rows × 9 columns</p>\n",
       "</div>"
      ],
      "text/plain": [
       "             County  County Code  Year  TotalOverdose  TotalDeath  \\\n",
       "0     Acadia Parish        22001  2003             11         602   \n",
       "1     Acadia Parish        22001  2005             23         674   \n",
       "2     Acadia Parish        22001  2006             19         636   \n",
       "3     Acadia Parish        22001  2007             19         655   \n",
       "4     Acadia Parish        22001  2009             11         603   \n",
       "...             ...          ...   ...            ...         ...   \n",
       "7826    Yuma County         4027  2011             20        1380   \n",
       "7827    Yuma County         4027  2012             32        1415   \n",
       "7828    Yuma County         4027  2013             22        1331   \n",
       "7829    Yuma County         4027  2014             35        1423   \n",
       "7830    Yuma County         4027  2015             24        1421   \n",
       "\n",
       "      OverdoseProp State  PolicyState   Post  \n",
       "0         0.018272    LA        False  False  \n",
       "1         0.034125    LA        False  False  \n",
       "2         0.029874    LA        False  False  \n",
       "3         0.029008    LA        False  False  \n",
       "4         0.018242    LA        False  False  \n",
       "...            ...   ...          ...    ...  \n",
       "7826      0.014493    AZ        False  False  \n",
       "7827      0.022615    AZ        False  False  \n",
       "7828      0.016529    AZ        False  False  \n",
       "7829      0.024596    AZ        False  False  \n",
       "7830      0.016890    AZ        False  False  \n",
       "\n",
       "[7831 rows x 9 columns]"
      ]
     },
     "execution_count": 22,
     "metadata": {},
     "output_type": "execute_result"
    }
   ],
   "source": [
    "final"
   ]
  },
  {
   "cell_type": "code",
   "execution_count": 23,
   "metadata": {},
   "outputs": [],
   "source": [
    "final.to_csv('death.csv', index = False)"
   ]
  },
  {
   "cell_type": "code",
   "execution_count": null,
   "metadata": {},
   "outputs": [],
   "source": []
  }
 ],
 "metadata": {
  "kernelspec": {
   "display_name": "Python 3",
   "language": "python",
   "name": "python3"
  },
  "language_info": {
   "codemirror_mode": {
    "name": "ipython",
    "version": 3
   },
   "file_extension": ".py",
   "mimetype": "text/x-python",
   "name": "python",
   "nbconvert_exporter": "python",
   "pygments_lexer": "ipython3",
   "version": "3.8.3"
  }
 },
 "nbformat": 4,
 "nbformat_minor": 4
}
