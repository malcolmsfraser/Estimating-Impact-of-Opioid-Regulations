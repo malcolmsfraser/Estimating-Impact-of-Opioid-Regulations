{
 "cells": [
  {
   "cell_type": "markdown",
   "metadata": {},
   "source": [
    "# overdose death"
   ]
  },
  {
   "cell_type": "code",
   "execution_count": 1,
   "metadata": {},
   "outputs": [],
   "source": [
    "import pandas as pd\n",
    "import numpy as np\n",
    "from zipfile import ZipFile\n",
    "import re"
   ]
  },
  {
   "cell_type": "code",
   "execution_count": 2,
   "metadata": {},
   "outputs": [],
   "source": [
    "# read in US death statistics\n",
    "original_zip = ZipFile('../00_source/US_VitalStatistics.zip', 'r')\n",
    "new_zip = ZipFile('new_archve.zip', 'w')\n",
    "for item in original_zip.infolist():\n",
    "    buffer = original_zip.read(item.filename)\n",
    "    if not str(item.filename).startswith('__MACOSX/'):\n",
    "        new_zip.writestr(item, buffer)\n",
    "new_zip.close()\n",
    "original_zip.close()"
   ]
  },
  {
   "cell_type": "code",
   "execution_count": 3,
   "metadata": {},
   "outputs": [],
   "source": [
    "new_zip = ZipFile('new_archve.zip', 'r')\n",
    "dfs = {}\n",
    "\n",
    "for text_file in new_zip.infolist():\n",
    "    dfs[re.search('2\\d\\d\\d', text_file.filename).group(0)] = pd.read_csv(new_zip.open(text_file.filename), sep = \"\\t\", usecols = [1, 2, 3, 5, 7])[:-15]\n",
    "    pass\n",
    "new_zip.close()\n",
    "!rm new_archve.zip\n",
    "\n",
    "origin = pd.DataFrame({})\n",
    "for key in dfs.keys():\n",
    "    origin = origin.append(dfs[key])\n",
    "origin.drop('County Code', axis = 1, inplace = True)"
   ]
  },
  {
   "cell_type": "code",
   "execution_count": 4,
   "metadata": {},
   "outputs": [
    {
     "data": {
      "text/plain": [
       "array(['All other non-drug and non-alcohol causes',\n",
       "       'Drug poisonings (overdose) Unintentional (X40-X44)',\n",
       "       'Drug poisonings (overdose) Undetermined (Y10-Y14)',\n",
       "       'Drug poisonings (overdose) Suicide (X60-X64)',\n",
       "       'All other drug-induced causes',\n",
       "       'All other alcohol-induced causes',\n",
       "       'Alcohol poisonings (overdose) (X45, X65, Y15)',\n",
       "       'Drug poisonings (overdose) Homicide (X85)'], dtype=object)"
      ]
     },
     "execution_count": 4,
     "metadata": {},
     "output_type": "execute_result"
    }
   ],
   "source": [
    "origin['Drug/Alcohol Induced Cause'].unique()"
   ]
  },
  {
   "cell_type": "code",
   "execution_count": 5,
   "metadata": {},
   "outputs": [],
   "source": [
    "# check whihc county has missing value\n",
    "origin[origin['Deaths'] == 'Missing']['County'].unique()\n",
    "# index_names = origin[origin['Deaths'] == 'Missing'].index\n",
    "# origin = origin.drop(index_names)\n",
    "\n",
    "# replace missing value with 10\n",
    "origin['Deaths'] = origin['Deaths'].replace('Missing', 10)"
   ]
  },
  {
   "cell_type": "code",
   "execution_count": 6,
   "metadata": {},
   "outputs": [],
   "source": [
    "origin['Deaths'] = origin['Deaths'].astype('int64')\n",
    "origin['Year'] = origin['Year'].astype('int64')\n",
    "origin[['County','State']] = origin.County.str.split(\", \",expand=True,)"
   ]
  },
  {
   "cell_type": "code",
   "execution_count": 7,
   "metadata": {},
   "outputs": [],
   "source": [
    "# convert abbreviation to full name\n",
    "states = {\n",
    "        'AK': 'Alaska',\n",
    "        'AL': 'Alabama',\n",
    "        'AR': 'Arkansas',\n",
    "        'AS': 'American Samoa',\n",
    "        'AZ': 'Arizona',\n",
    "        'CA': 'California',\n",
    "        'CO': 'Colorado',\n",
    "        'CT': 'Connecticut',\n",
    "        'DC': 'District of Columbia',\n",
    "        'DE': 'Delaware',\n",
    "        'FL': 'Florida',\n",
    "        'GA': 'Georgia',\n",
    "        'GU': 'Guam',\n",
    "        'HI': 'Hawaii',\n",
    "        'IA': 'Iowa',\n",
    "        'ID': 'Idaho',\n",
    "        'IL': 'Illinois',\n",
    "        'IN': 'Indiana',\n",
    "        'KS': 'Kansas',\n",
    "        'KY': 'Kentucky',\n",
    "        'LA': 'Louisiana',\n",
    "        'MA': 'Massachusetts',\n",
    "        'MD': 'Maryland',\n",
    "        'ME': 'Maine',\n",
    "        'MI': 'Michigan',\n",
    "        'MN': 'Minnesota',\n",
    "        'MO': 'Missouri',\n",
    "        'MP': 'Northern Mariana Islands',\n",
    "        'MS': 'Mississippi',\n",
    "        'MT': 'Montana',\n",
    "        'NA': 'National',\n",
    "        'NC': 'North Carolina',\n",
    "        'ND': 'North Dakota',\n",
    "        'NE': 'Nebraska',\n",
    "        'NH': 'New Hampshire',\n",
    "        'NJ': 'New Jersey',\n",
    "        'NM': 'New Mexico',\n",
    "        'NV': 'Nevada',\n",
    "        'NY': 'New York',\n",
    "        'OH': 'Ohio',\n",
    "        'OK': 'Oklahoma',\n",
    "        'OR': 'Oregon',\n",
    "        'PA': 'Pennsylvania',\n",
    "        'PR': 'Puerto Rico',\n",
    "        'RI': 'Rhode Island',\n",
    "        'SC': 'South Carolina',\n",
    "        'SD': 'South Dakota',\n",
    "        'TN': 'Tennessee',\n",
    "        'TX': 'Texas',\n",
    "        'UT': 'Utah',\n",
    "        'VA': 'Virginia',\n",
    "        'VI': 'Virgin Islands',\n",
    "        'VT': 'Vermont',\n",
    "        'WA': 'Washington',\n",
    "        'WI': 'Wisconsin',\n",
    "        'WV': 'West Virginia',\n",
    "        'WY': 'Wyoming'\n",
    "}\n",
    "origin['State'] = origin['State'].map(states)"
   ]
  },
  {
   "cell_type": "code",
   "execution_count": 8,
   "metadata": {},
   "outputs": [],
   "source": [
    "names = []\n",
    "for name in origin['Drug/Alcohol Induced Cause'].unique():\n",
    "    if re.match('Drug poisonings.*', name):\n",
    "        names.append(name)\n",
    "        pass\n",
    "    pass\n",
    "\n",
    "interDose = origin[origin['Drug/Alcohol Induced Cause'].isin(names)].copy()"
   ]
  },
  {
   "cell_type": "code",
   "execution_count": 9,
   "metadata": {},
   "outputs": [],
   "source": [
    "finalDose = interDose.groupby(['State', 'County', 'Year'], as_index = False).sum()[['State', 'County', 'Year', 'Deaths']].rename({'Deaths':'TotalOverdose'}, axis = 'columns').copy()"
   ]
  },
  {
   "cell_type": "markdown",
   "metadata": {},
   "source": [
    "# pop"
   ]
  },
  {
   "cell_type": "code",
   "execution_count": 11,
   "metadata": {},
   "outputs": [],
   "source": [
    "pop = pd.read_csv('../20_intermediate_files/FinalPopDataset.csv')"
   ]
  },
  {
   "cell_type": "code",
   "execution_count": 12,
   "metadata": {},
   "outputs": [],
   "source": [
    "# subset population dataset\n",
    "states = finalDose.State.unique().copy()\n",
    "subPop = pop[pop['STATE'].isin(states) & (pop['YEAR'] >= 2003) & (pop['YEAR'] <= 2015)].reset_index(drop = True).copy()\n",
    "index_names = subPop[subPop['COUNTY'].isin(states)].index\n",
    "subPop = subPop.drop(index_names)"
   ]
  },
  {
   "cell_type": "markdown",
   "metadata": {},
   "source": [
    "# merging overdose and pop"
   ]
  },
  {
   "cell_type": "code",
   "execution_count": 15,
   "metadata": {},
   "outputs": [
    {
     "data": {
      "text/plain": [
       "_merge\n",
       "left_only     32995\n",
       "both           7838\n",
       "right_only        0\n",
       "dtype: int64"
      ]
     },
     "execution_count": 15,
     "metadata": {},
     "output_type": "execute_result"
    }
   ],
   "source": [
    "final = pd.merge(subPop, finalDose, how = 'left', left_on = ['STATE', 'COUNTY', 'YEAR'], right_on = ['State', 'County', 'Year'], indicator = True)\n",
    "final.value_counts('_merge')"
   ]
  },
  {
   "cell_type": "code",
   "execution_count": 16,
   "metadata": {},
   "outputs": [],
   "source": [
    "final.drop(['County', 'Year', 'State'], axis = 1, inplace = True)\n",
    "final['TotalOverdose'] = final['TotalOverdose'].fillna(0)"
   ]
  },
  {
   "cell_type": "code",
   "execution_count": 18,
   "metadata": {},
   "outputs": [],
   "source": [
    "final.loc[final.TotalOverdose == 0, \"TotalOverdose\" ] = 10\n",
    "final.loc[final.COUNTY == 'Loving County', \"TotalOverdose\" ] = 1\n",
    "final.loc[final.COUNTY == 'King County', \"TotalOverdose\" ] = 1\n",
    "final.loc[final.POP < 1000, \"TotalOverdose\" ] = 1"
   ]
  },
  {
   "cell_type": "markdown",
   "metadata": {},
   "source": [
    "# calculate overdose death"
   ]
  },
  {
   "cell_type": "code",
   "execution_count": 20,
   "metadata": {},
   "outputs": [],
   "source": [
    "final.drop('_merge', axis = 1, inplace = True)"
   ]
  },
  {
   "cell_type": "code",
   "execution_count": 21,
   "metadata": {},
   "outputs": [],
   "source": [
    "final['OverdoseProp'] = final['TotalOverdose'] / final['POP']"
   ]
  },
  {
   "cell_type": "code",
   "execution_count": 22,
   "metadata": {},
   "outputs": [],
   "source": [
    "final['PolicyState'] = (final['STATE'] == 'Florida') | ((final['STATE'] == 'Texas')) | (final['STATE'] == 'Washington')"
   ]
  },
  {
   "cell_type": "code",
   "execution_count": 23,
   "metadata": {},
   "outputs": [],
   "source": [
    "nearFL = ['Florida', 'Louisiana', 'Mississippi', 'South Carolina']\n",
    "nearTX = ['Texas', 'Arkansas', 'New Mexico', 'Kansas']\n",
    "nearWA = ['Washington', 'Colorado', 'Oregon', 'California']"
   ]
  },
  {
   "cell_type": "code",
   "execution_count": 24,
   "metadata": {},
   "outputs": [],
   "source": [
    "final['Post'] = ((final['STATE'].isin(nearFL)) & (final['YEAR'] >= 2010)) | ((final['STATE'].isin(nearTX)) & (final['YEAR'] >= 2007)) | ((final['STATE'].isin(nearWA)) & (final['YEAR'] >= 2012))"
   ]
  },
  {
   "cell_type": "code",
   "execution_count": 25,
   "metadata": {},
   "outputs": [
    {
     "data": {
      "text/plain": [
       "254"
      ]
     },
     "execution_count": 25,
     "metadata": {},
     "output_type": "execute_result"
    }
   ],
   "source": [
    "len(final[final['STATE'] == 'Texas']['COUNTY'].unique())"
   ]
  },
  {
   "cell_type": "code",
   "execution_count": 26,
   "metadata": {},
   "outputs": [],
   "source": [
    "final.to_csv('../20_intermediate_files/state_county_death.csv', index = False)"
   ]
  },
  {
   "cell_type": "markdown",
   "metadata": {},
   "source": [
    "# Loop before simplification"
   ]
  },
  {
   "cell_type": "code",
   "execution_count": 12,
   "metadata": {},
   "outputs": [],
   "source": [
    "#deathTypes = origin['Drug/Alcohol Induced Cause'].unique().copy()\n",
    "#years = final.YEAR.unique().copy()\n",
    "\n",
    "#years = sorted(origin['Year'].unique()).copy()\n",
    "#final = final[final['STATE'].isin(states) & (final['YEAR'] >= 2003) & (final['YEAR'] <= 2015)].reset_index(drop = True).copy()\n",
    "\n",
    "#state_county = {}\n",
    "\n",
    "#for state in states:\n",
    "#    counties = final[final['STATE'] == state]['COUNTY'].unique().copy()\n",
    "#    state_county[state] = counties\n",
    "#    pass"
   ]
  },
  {
   "cell_type": "code",
   "execution_count": 16,
   "metadata": {},
   "outputs": [],
   "source": [
    "#for state, counties in state_county.items():\n",
    "#    for county in counties: \n",
    "#        for year in years:\n",
    "#            window = final[(final['STATE'] == state) & (final['COUNTY'] == county) & (final['YEAR'] == year)].copy()\n",
    "#            population = window['POP'].iloc[0]\n",
    "#            for death in deathTypes:\n",
    "#                existingDeath = window['Drug/Alcohol Induced Cause'].unique()\n",
    "#                if death not in existingDeath:\n",
    "#                    new_row = {'STATE':state, 'COUNTY':county, 'YEAR':year, 'POP':population, 'Drug/Alcohol Induced Cause':death, 'Deaths':0, '_merge':'Missing'}\n",
    "#                    final = final.append(new_row, ignore_index=True).copy()"
   ]
  },
  {
   "cell_type": "code",
   "execution_count": 17,
   "metadata": {},
   "outputs": [],
   "source": [
    "#sub = final.copy()\n",
    "#index_names = sub[sub['_merge'] == 'left_only'].index\n",
    "#sub = sub.drop(index_names)\n",
    "#sub.value_counts('_merge')\n",
    "#sub.drop('_merge', axis = 1, inplace = True)"
   ]
  },
  {
   "cell_type": "code",
   "execution_count": null,
   "metadata": {},
   "outputs": [],
   "source": []
  }
 ],
 "metadata": {
  "kernelspec": {
   "display_name": "Python 3",
   "language": "python",
   "name": "python3"
  },
  "language_info": {
   "codemirror_mode": {
    "name": "ipython",
    "version": 3
   },
   "file_extension": ".py",
   "mimetype": "text/x-python",
   "name": "python",
   "nbconvert_exporter": "python",
   "pygments_lexer": "ipython3",
   "version": "3.8.3"
  }
 },
 "nbformat": 4,
 "nbformat_minor": 4
}
