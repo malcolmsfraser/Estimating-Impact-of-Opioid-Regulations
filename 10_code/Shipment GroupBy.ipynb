{
 "cells": [
  {
   "cell_type": "markdown",
   "metadata": {},
   "source": [
    "## GroupBy: FL & 3 Other Control States"
   ]
  },
  {
   "cell_type": "code",
   "execution_count": 1,
   "metadata": {},
   "outputs": [
    {
     "data": {
      "text/html": [
       "<div>\n",
       "<style scoped>\n",
       "    .dataframe tbody tr th:only-of-type {\n",
       "        vertical-align: middle;\n",
       "    }\n",
       "\n",
       "    .dataframe tbody tr th {\n",
       "        vertical-align: top;\n",
       "    }\n",
       "\n",
       "    .dataframe thead th {\n",
       "        text-align: right;\n",
       "    }\n",
       "</style>\n",
       "<table border=\"1\" class=\"dataframe\">\n",
       "  <thead>\n",
       "    <tr style=\"text-align: right;\">\n",
       "      <th></th>\n",
       "      <th>BUYER_STATE</th>\n",
       "      <th>BUYER_COUNTY</th>\n",
       "      <th>BUYER_ZIP</th>\n",
       "      <th>TRANSACTION_DATE</th>\n",
       "      <th>DRUG_CODE</th>\n",
       "      <th>CALC_BASE_WT_IN_GM</th>\n",
       "      <th>MME_Conversion_Factor</th>\n",
       "      <th>YEAR</th>\n",
       "    </tr>\n",
       "  </thead>\n",
       "  <tbody>\n",
       "    <tr>\n",
       "      <th>0</th>\n",
       "      <td>FL</td>\n",
       "      <td>PALM BEACH</td>\n",
       "      <td>33460</td>\n",
       "      <td>8182006</td>\n",
       "      <td>9143</td>\n",
       "      <td>3.586</td>\n",
       "      <td>1.5</td>\n",
       "      <td>2006</td>\n",
       "    </tr>\n",
       "    <tr>\n",
       "      <th>1</th>\n",
       "      <td>FL</td>\n",
       "      <td>PALM BEACH</td>\n",
       "      <td>33460</td>\n",
       "      <td>11292006</td>\n",
       "      <td>9143</td>\n",
       "      <td>7.172</td>\n",
       "      <td>1.5</td>\n",
       "      <td>2006</td>\n",
       "    </tr>\n",
       "    <tr>\n",
       "      <th>2</th>\n",
       "      <td>FL</td>\n",
       "      <td>PALM BEACH</td>\n",
       "      <td>33460</td>\n",
       "      <td>2062007</td>\n",
       "      <td>9143</td>\n",
       "      <td>21.516</td>\n",
       "      <td>1.5</td>\n",
       "      <td>2007</td>\n",
       "    </tr>\n",
       "    <tr>\n",
       "      <th>3</th>\n",
       "      <td>FL</td>\n",
       "      <td>PALM BEACH</td>\n",
       "      <td>33460</td>\n",
       "      <td>3012007</td>\n",
       "      <td>9143</td>\n",
       "      <td>21.516</td>\n",
       "      <td>1.5</td>\n",
       "      <td>2007</td>\n",
       "    </tr>\n",
       "    <tr>\n",
       "      <th>4</th>\n",
       "      <td>FL</td>\n",
       "      <td>PALM BEACH</td>\n",
       "      <td>33460</td>\n",
       "      <td>4162007</td>\n",
       "      <td>9143</td>\n",
       "      <td>5.379</td>\n",
       "      <td>1.5</td>\n",
       "      <td>2007</td>\n",
       "    </tr>\n",
       "  </tbody>\n",
       "</table>\n",
       "</div>"
      ],
      "text/plain": [
       "  BUYER_STATE BUYER_COUNTY  BUYER_ZIP  TRANSACTION_DATE  DRUG_CODE  \\\n",
       "0          FL   PALM BEACH      33460           8182006       9143   \n",
       "1          FL   PALM BEACH      33460          11292006       9143   \n",
       "2          FL   PALM BEACH      33460           2062007       9143   \n",
       "3          FL   PALM BEACH      33460           3012007       9143   \n",
       "4          FL   PALM BEACH      33460           4162007       9143   \n",
       "\n",
       "   CALC_BASE_WT_IN_GM  MME_Conversion_Factor  YEAR  \n",
       "0               3.586                    1.5  2006  \n",
       "1               7.172                    1.5  2006  \n",
       "2              21.516                    1.5  2007  \n",
       "3              21.516                    1.5  2007  \n",
       "4               5.379                    1.5  2007  "
      ]
     },
     "execution_count": 1,
     "metadata": {},
     "output_type": "execute_result"
    }
   ],
   "source": [
    "# Read the csv created by Shipment_Data_Extraction (Group1: FL & 3 Other States) \n",
    "import pandas as pd\n",
    "FL= pd.read_csv(\"shipment_FL.csv\")\n",
    "FL.head()"
   ]
  },
  {
   "cell_type": "code",
   "execution_count": 2,
   "metadata": {},
   "outputs": [],
   "source": [
    "#Calculate MME\n",
    "FL['MME']=FL['MME_Conversion_Factor']*FL['CALC_BASE_WT_IN_GM']"
   ]
  },
  {
   "cell_type": "code",
   "execution_count": 3,
   "metadata": {},
   "outputs": [],
   "source": [
    "#Rename YEAR Column\n",
    "FL=FL.rename(columns={\"YEAR\": \"YEAR/MONTH\"})"
   ]
  },
  {
   "cell_type": "code",
   "execution_count": 4,
   "metadata": {},
   "outputs": [],
   "source": [
    "#Drop the unnecessary columns\n",
    "drop=['TRANSACTION_DATE','DRUG_CODE', 'CALC_BASE_WT_IN_GM', 'MME_Conversion_Factor','BUYER_ZIP']"
   ]
  },
  {
   "cell_type": "code",
   "execution_count": 5,
   "metadata": {},
   "outputs": [],
   "source": [
    "FL1=FL.drop(drop,axis=1)"
   ]
  },
  {
   "cell_type": "code",
   "execution_count": 6,
   "metadata": {},
   "outputs": [],
   "source": [
    "#Group By State, County, and Year\n",
    "FL_agg=FL1.groupby(['BUYER_STATE','BUYER_COUNTY','YEAR/MONTH'],as_index=False).sum()"
   ]
  },
  {
   "cell_type": "code",
   "execution_count": 7,
   "metadata": {},
   "outputs": [
    {
     "data": {
      "text/html": [
       "<div>\n",
       "<style scoped>\n",
       "    .dataframe tbody tr th:only-of-type {\n",
       "        vertical-align: middle;\n",
       "    }\n",
       "\n",
       "    .dataframe tbody tr th {\n",
       "        vertical-align: top;\n",
       "    }\n",
       "\n",
       "    .dataframe thead th {\n",
       "        text-align: right;\n",
       "    }\n",
       "</style>\n",
       "<table border=\"1\" class=\"dataframe\">\n",
       "  <thead>\n",
       "    <tr style=\"text-align: right;\">\n",
       "      <th></th>\n",
       "      <th>BUYER_STATE</th>\n",
       "      <th>BUYER_COUNTY</th>\n",
       "      <th>YEAR/MONTH</th>\n",
       "      <th>MME</th>\n",
       "    </tr>\n",
       "  </thead>\n",
       "  <tbody>\n",
       "    <tr>\n",
       "      <th>0</th>\n",
       "      <td>FL</td>\n",
       "      <td>ALACHUA</td>\n",
       "      <td>2006</td>\n",
       "      <td>82596.618688</td>\n",
       "    </tr>\n",
       "    <tr>\n",
       "      <th>1</th>\n",
       "      <td>FL</td>\n",
       "      <td>ALACHUA</td>\n",
       "      <td>2007</td>\n",
       "      <td>95259.627977</td>\n",
       "    </tr>\n",
       "    <tr>\n",
       "      <th>2</th>\n",
       "      <td>FL</td>\n",
       "      <td>ALACHUA</td>\n",
       "      <td>2008</td>\n",
       "      <td>114675.221922</td>\n",
       "    </tr>\n",
       "    <tr>\n",
       "      <th>3</th>\n",
       "      <td>FL</td>\n",
       "      <td>ALACHUA</td>\n",
       "      <td>2009</td>\n",
       "      <td>141281.048185</td>\n",
       "    </tr>\n",
       "    <tr>\n",
       "      <th>4</th>\n",
       "      <td>FL</td>\n",
       "      <td>ALACHUA</td>\n",
       "      <td>2010</td>\n",
       "      <td>150910.785876</td>\n",
       "    </tr>\n",
       "  </tbody>\n",
       "</table>\n",
       "</div>"
      ],
      "text/plain": [
       "  BUYER_STATE BUYER_COUNTY  YEAR/MONTH            MME\n",
       "0          FL      ALACHUA        2006   82596.618688\n",
       "1          FL      ALACHUA        2007   95259.627977\n",
       "2          FL      ALACHUA        2008  114675.221922\n",
       "3          FL      ALACHUA        2009  141281.048185\n",
       "4          FL      ALACHUA        2010  150910.785876"
      ]
     },
     "execution_count": 7,
     "metadata": {},
     "output_type": "execute_result"
    }
   ],
   "source": [
    "#Check the result to make sure everything looks right\n",
    "FL_agg.head()"
   ]
  },
  {
   "cell_type": "code",
   "execution_count": 9,
   "metadata": {},
   "outputs": [
    {
     "data": {
      "text/plain": [
       "82596.618687725"
      ]
     },
     "execution_count": 9,
     "metadata": {},
     "output_type": "execute_result"
    }
   ],
   "source": [
    "#Check if the MME sum is correct\n",
    "FL1[(FL1['BUYER_STATE']=='FL') &(FL1['BUYER_COUNTY']=='ALACHUA') & (FL1['YEAR/MONTH']==2006)]['MME'].sum()"
   ]
  },
  {
   "cell_type": "markdown",
   "metadata": {},
   "source": [
    "## GroupBy: TX & 3 Other Control States"
   ]
  },
  {
   "cell_type": "code",
   "execution_count": 10,
   "metadata": {},
   "outputs": [
    {
     "data": {
      "text/html": [
       "<div>\n",
       "<style scoped>\n",
       "    .dataframe tbody tr th:only-of-type {\n",
       "        vertical-align: middle;\n",
       "    }\n",
       "\n",
       "    .dataframe tbody tr th {\n",
       "        vertical-align: top;\n",
       "    }\n",
       "\n",
       "    .dataframe thead th {\n",
       "        text-align: right;\n",
       "    }\n",
       "</style>\n",
       "<table border=\"1\" class=\"dataframe\">\n",
       "  <thead>\n",
       "    <tr style=\"text-align: right;\">\n",
       "      <th></th>\n",
       "      <th>BUYER_STATE</th>\n",
       "      <th>BUYER_COUNTY</th>\n",
       "      <th>BUYER_ZIP</th>\n",
       "      <th>TRANSACTION_DATE</th>\n",
       "      <th>DRUG_CODE</th>\n",
       "      <th>CALC_BASE_WT_IN_GM</th>\n",
       "      <th>MME_Conversion_Factor</th>\n",
       "      <th>MONTH</th>\n",
       "      <th>MME</th>\n",
       "    </tr>\n",
       "  </thead>\n",
       "  <tbody>\n",
       "    <tr>\n",
       "      <th>0</th>\n",
       "      <td>TX</td>\n",
       "      <td>GREGG</td>\n",
       "      <td>75662</td>\n",
       "      <td>1112006</td>\n",
       "      <td>9193</td>\n",
       "      <td>1.5135</td>\n",
       "      <td>1.0</td>\n",
       "      <td>1</td>\n",
       "      <td>1.51</td>\n",
       "    </tr>\n",
       "    <tr>\n",
       "      <th>1</th>\n",
       "      <td>TX</td>\n",
       "      <td>JEFFERSON</td>\n",
       "      <td>77706</td>\n",
       "      <td>1042006</td>\n",
       "      <td>9193</td>\n",
       "      <td>1.5135</td>\n",
       "      <td>1.0</td>\n",
       "      <td>1</td>\n",
       "      <td>1.51</td>\n",
       "    </tr>\n",
       "    <tr>\n",
       "      <th>2</th>\n",
       "      <td>TX</td>\n",
       "      <td>JEFFERSON</td>\n",
       "      <td>77706</td>\n",
       "      <td>11022006</td>\n",
       "      <td>9193</td>\n",
       "      <td>2.4216</td>\n",
       "      <td>1.0</td>\n",
       "      <td>11</td>\n",
       "      <td>2.42</td>\n",
       "    </tr>\n",
       "    <tr>\n",
       "      <th>3</th>\n",
       "      <td>TX</td>\n",
       "      <td>JEFFERSON</td>\n",
       "      <td>77706</td>\n",
       "      <td>1042007</td>\n",
       "      <td>9193</td>\n",
       "      <td>0.6054</td>\n",
       "      <td>1.0</td>\n",
       "      <td>1</td>\n",
       "      <td>0.61</td>\n",
       "    </tr>\n",
       "    <tr>\n",
       "      <th>4</th>\n",
       "      <td>TX</td>\n",
       "      <td>JEFFERSON</td>\n",
       "      <td>77706</td>\n",
       "      <td>2142007</td>\n",
       "      <td>9193</td>\n",
       "      <td>0.6054</td>\n",
       "      <td>1.0</td>\n",
       "      <td>2</td>\n",
       "      <td>0.61</td>\n",
       "    </tr>\n",
       "  </tbody>\n",
       "</table>\n",
       "</div>"
      ],
      "text/plain": [
       "  BUYER_STATE BUYER_COUNTY  BUYER_ZIP  TRANSACTION_DATE  DRUG_CODE  \\\n",
       "0          TX        GREGG      75662           1112006       9193   \n",
       "1          TX    JEFFERSON      77706           1042006       9193   \n",
       "2          TX    JEFFERSON      77706          11022006       9193   \n",
       "3          TX    JEFFERSON      77706           1042007       9193   \n",
       "4          TX    JEFFERSON      77706           2142007       9193   \n",
       "\n",
       "   CALC_BASE_WT_IN_GM  MME_Conversion_Factor  MONTH   MME  \n",
       "0              1.5135                    1.0      1  1.51  \n",
       "1              1.5135                    1.0      1  1.51  \n",
       "2              2.4216                    1.0     11  2.42  \n",
       "3              0.6054                    1.0      1  0.61  \n",
       "4              0.6054                    1.0      2  0.61  "
      ]
     },
     "execution_count": 10,
     "metadata": {},
     "output_type": "execute_result"
    }
   ],
   "source": [
    "# Read the csv created by Shipment_Data_Extraction (Group2: TX & 3 Other States) \n",
    "TX= pd.read_csv(\"shipment_TX.csv\")\n",
    "TX.head()"
   ]
  },
  {
   "cell_type": "code",
   "execution_count": 11,
   "metadata": {},
   "outputs": [],
   "source": [
    "#Rename the MONTH Column \n",
    "TX=TX.rename(columns={\"MONTH\": \"YEAR/MONTH\"})"
   ]
  },
  {
   "cell_type": "code",
   "execution_count": 12,
   "metadata": {},
   "outputs": [],
   "source": [
    "#Change the values to MMYYYY Format\n",
    "TX['YEAR/MONTH']= (TX['TRANSACTION_DATE'].astype(str).str[-4:] + TX['TRANSACTION_DATE'].astype(str).str[:-6]).astype(int) "
   ]
  },
  {
   "cell_type": "code",
   "execution_count": 13,
   "metadata": {},
   "outputs": [
    {
     "data": {
      "text/html": [
       "<div>\n",
       "<style scoped>\n",
       "    .dataframe tbody tr th:only-of-type {\n",
       "        vertical-align: middle;\n",
       "    }\n",
       "\n",
       "    .dataframe tbody tr th {\n",
       "        vertical-align: top;\n",
       "    }\n",
       "\n",
       "    .dataframe thead th {\n",
       "        text-align: right;\n",
       "    }\n",
       "</style>\n",
       "<table border=\"1\" class=\"dataframe\">\n",
       "  <thead>\n",
       "    <tr style=\"text-align: right;\">\n",
       "      <th></th>\n",
       "      <th>BUYER_STATE</th>\n",
       "      <th>BUYER_COUNTY</th>\n",
       "      <th>BUYER_ZIP</th>\n",
       "      <th>TRANSACTION_DATE</th>\n",
       "      <th>DRUG_CODE</th>\n",
       "      <th>CALC_BASE_WT_IN_GM</th>\n",
       "      <th>MME_Conversion_Factor</th>\n",
       "      <th>YEAR/MONTH</th>\n",
       "      <th>MME</th>\n",
       "    </tr>\n",
       "  </thead>\n",
       "  <tbody>\n",
       "    <tr>\n",
       "      <th>0</th>\n",
       "      <td>TX</td>\n",
       "      <td>GREGG</td>\n",
       "      <td>75662</td>\n",
       "      <td>1112006</td>\n",
       "      <td>9193</td>\n",
       "      <td>1.5135</td>\n",
       "      <td>1.0</td>\n",
       "      <td>20061</td>\n",
       "      <td>1.51</td>\n",
       "    </tr>\n",
       "    <tr>\n",
       "      <th>1</th>\n",
       "      <td>TX</td>\n",
       "      <td>JEFFERSON</td>\n",
       "      <td>77706</td>\n",
       "      <td>1042006</td>\n",
       "      <td>9193</td>\n",
       "      <td>1.5135</td>\n",
       "      <td>1.0</td>\n",
       "      <td>20061</td>\n",
       "      <td>1.51</td>\n",
       "    </tr>\n",
       "    <tr>\n",
       "      <th>2</th>\n",
       "      <td>TX</td>\n",
       "      <td>JEFFERSON</td>\n",
       "      <td>77706</td>\n",
       "      <td>11022006</td>\n",
       "      <td>9193</td>\n",
       "      <td>2.4216</td>\n",
       "      <td>1.0</td>\n",
       "      <td>200611</td>\n",
       "      <td>2.42</td>\n",
       "    </tr>\n",
       "    <tr>\n",
       "      <th>3</th>\n",
       "      <td>TX</td>\n",
       "      <td>JEFFERSON</td>\n",
       "      <td>77706</td>\n",
       "      <td>1042007</td>\n",
       "      <td>9193</td>\n",
       "      <td>0.6054</td>\n",
       "      <td>1.0</td>\n",
       "      <td>20071</td>\n",
       "      <td>0.61</td>\n",
       "    </tr>\n",
       "    <tr>\n",
       "      <th>4</th>\n",
       "      <td>TX</td>\n",
       "      <td>JEFFERSON</td>\n",
       "      <td>77706</td>\n",
       "      <td>2142007</td>\n",
       "      <td>9193</td>\n",
       "      <td>0.6054</td>\n",
       "      <td>1.0</td>\n",
       "      <td>20072</td>\n",
       "      <td>0.61</td>\n",
       "    </tr>\n",
       "  </tbody>\n",
       "</table>\n",
       "</div>"
      ],
      "text/plain": [
       "  BUYER_STATE BUYER_COUNTY  BUYER_ZIP  TRANSACTION_DATE  DRUG_CODE  \\\n",
       "0          TX        GREGG      75662           1112006       9193   \n",
       "1          TX    JEFFERSON      77706           1042006       9193   \n",
       "2          TX    JEFFERSON      77706          11022006       9193   \n",
       "3          TX    JEFFERSON      77706           1042007       9193   \n",
       "4          TX    JEFFERSON      77706           2142007       9193   \n",
       "\n",
       "   CALC_BASE_WT_IN_GM  MME_Conversion_Factor  YEAR/MONTH   MME  \n",
       "0              1.5135                    1.0       20061  1.51  \n",
       "1              1.5135                    1.0       20061  1.51  \n",
       "2              2.4216                    1.0      200611  2.42  \n",
       "3              0.6054                    1.0       20071  0.61  \n",
       "4              0.6054                    1.0       20072  0.61  "
      ]
     },
     "execution_count": 13,
     "metadata": {},
     "output_type": "execute_result"
    }
   ],
   "source": [
    "#Check the result to make sure everything looks right\n",
    "TX.head()"
   ]
  },
  {
   "cell_type": "code",
   "execution_count": 14,
   "metadata": {},
   "outputs": [],
   "source": [
    "#Drop the unnecessary columns\n",
    "TX1=TX.drop(axis=1,columns=drop)"
   ]
  },
  {
   "cell_type": "code",
   "execution_count": 15,
   "metadata": {},
   "outputs": [
    {
     "data": {
      "text/html": [
       "<div>\n",
       "<style scoped>\n",
       "    .dataframe tbody tr th:only-of-type {\n",
       "        vertical-align: middle;\n",
       "    }\n",
       "\n",
       "    .dataframe tbody tr th {\n",
       "        vertical-align: top;\n",
       "    }\n",
       "\n",
       "    .dataframe thead th {\n",
       "        text-align: right;\n",
       "    }\n",
       "</style>\n",
       "<table border=\"1\" class=\"dataframe\">\n",
       "  <thead>\n",
       "    <tr style=\"text-align: right;\">\n",
       "      <th></th>\n",
       "      <th>BUYER_STATE</th>\n",
       "      <th>BUYER_COUNTY</th>\n",
       "      <th>YEAR/MONTH</th>\n",
       "      <th>MME</th>\n",
       "    </tr>\n",
       "  </thead>\n",
       "  <tbody>\n",
       "    <tr>\n",
       "      <th>0</th>\n",
       "      <td>TX</td>\n",
       "      <td>GREGG</td>\n",
       "      <td>20061</td>\n",
       "      <td>1.51</td>\n",
       "    </tr>\n",
       "    <tr>\n",
       "      <th>1</th>\n",
       "      <td>TX</td>\n",
       "      <td>JEFFERSON</td>\n",
       "      <td>20061</td>\n",
       "      <td>1.51</td>\n",
       "    </tr>\n",
       "    <tr>\n",
       "      <th>2</th>\n",
       "      <td>TX</td>\n",
       "      <td>JEFFERSON</td>\n",
       "      <td>200611</td>\n",
       "      <td>2.42</td>\n",
       "    </tr>\n",
       "    <tr>\n",
       "      <th>3</th>\n",
       "      <td>TX</td>\n",
       "      <td>JEFFERSON</td>\n",
       "      <td>20071</td>\n",
       "      <td>0.61</td>\n",
       "    </tr>\n",
       "    <tr>\n",
       "      <th>4</th>\n",
       "      <td>TX</td>\n",
       "      <td>JEFFERSON</td>\n",
       "      <td>20072</td>\n",
       "      <td>0.61</td>\n",
       "    </tr>\n",
       "  </tbody>\n",
       "</table>\n",
       "</div>"
      ],
      "text/plain": [
       "  BUYER_STATE BUYER_COUNTY  YEAR/MONTH   MME\n",
       "0          TX        GREGG       20061  1.51\n",
       "1          TX    JEFFERSON       20061  1.51\n",
       "2          TX    JEFFERSON      200611  2.42\n",
       "3          TX    JEFFERSON       20071  0.61\n",
       "4          TX    JEFFERSON       20072  0.61"
      ]
     },
     "execution_count": 15,
     "metadata": {},
     "output_type": "execute_result"
    }
   ],
   "source": [
    "#Check the result to make sure everything looks right\n",
    "TX1.head()"
   ]
  },
  {
   "cell_type": "code",
   "execution_count": 16,
   "metadata": {},
   "outputs": [],
   "source": [
    "#Group By State, County, and Year/Month\n",
    "TX_agg=TX1.groupby(['BUYER_STATE','BUYER_COUNTY','YEAR/MONTH'],as_index=False).sum()"
   ]
  },
  {
   "cell_type": "code",
   "execution_count": 17,
   "metadata": {},
   "outputs": [
    {
     "data": {
      "text/html": [
       "<div>\n",
       "<style scoped>\n",
       "    .dataframe tbody tr th:only-of-type {\n",
       "        vertical-align: middle;\n",
       "    }\n",
       "\n",
       "    .dataframe tbody tr th {\n",
       "        vertical-align: top;\n",
       "    }\n",
       "\n",
       "    .dataframe thead th {\n",
       "        text-align: right;\n",
       "    }\n",
       "</style>\n",
       "<table border=\"1\" class=\"dataframe\">\n",
       "  <thead>\n",
       "    <tr style=\"text-align: right;\">\n",
       "      <th></th>\n",
       "      <th>BUYER_STATE</th>\n",
       "      <th>BUYER_COUNTY</th>\n",
       "      <th>YEAR/MONTH</th>\n",
       "      <th>MME</th>\n",
       "    </tr>\n",
       "  </thead>\n",
       "  <tbody>\n",
       "    <tr>\n",
       "      <th>0</th>\n",
       "      <td>AR</td>\n",
       "      <td>ARKANSAS</td>\n",
       "      <td>20061</td>\n",
       "      <td>391.34</td>\n",
       "    </tr>\n",
       "    <tr>\n",
       "      <th>1</th>\n",
       "      <td>AR</td>\n",
       "      <td>ARKANSAS</td>\n",
       "      <td>20062</td>\n",
       "      <td>294.16</td>\n",
       "    </tr>\n",
       "    <tr>\n",
       "      <th>2</th>\n",
       "      <td>AR</td>\n",
       "      <td>ARKANSAS</td>\n",
       "      <td>20063</td>\n",
       "      <td>400.71</td>\n",
       "    </tr>\n",
       "    <tr>\n",
       "      <th>3</th>\n",
       "      <td>AR</td>\n",
       "      <td>ARKANSAS</td>\n",
       "      <td>20064</td>\n",
       "      <td>333.35</td>\n",
       "    </tr>\n",
       "    <tr>\n",
       "      <th>4</th>\n",
       "      <td>AR</td>\n",
       "      <td>ARKANSAS</td>\n",
       "      <td>20065</td>\n",
       "      <td>395.37</td>\n",
       "    </tr>\n",
       "  </tbody>\n",
       "</table>\n",
       "</div>"
      ],
      "text/plain": [
       "  BUYER_STATE BUYER_COUNTY  YEAR/MONTH     MME\n",
       "0          AR     ARKANSAS       20061  391.34\n",
       "1          AR     ARKANSAS       20062  294.16\n",
       "2          AR     ARKANSAS       20063  400.71\n",
       "3          AR     ARKANSAS       20064  333.35\n",
       "4          AR     ARKANSAS       20065  395.37"
      ]
     },
     "execution_count": 17,
     "metadata": {},
     "output_type": "execute_result"
    }
   ],
   "source": [
    "#Check the result to make sure everything looks right\n",
    "TX_agg.head()"
   ]
  },
  {
   "cell_type": "code",
   "execution_count": 18,
   "metadata": {},
   "outputs": [
    {
     "data": {
      "text/plain": [
       "391.34000000000003"
      ]
     },
     "execution_count": 18,
     "metadata": {},
     "output_type": "execute_result"
    }
   ],
   "source": [
    "#Check if the MME sum is correct\n",
    "TX1[(TX1['BUYER_STATE']=='AR') &(TX1['BUYER_COUNTY']=='ARKANSAS') & (TX1['YEAR/MONTH']==20061)]['MME'].sum()"
   ]
  },
  {
   "cell_type": "markdown",
   "metadata": {},
   "source": [
    "## GroupBy: WA & 3 Other Control States"
   ]
  },
  {
   "cell_type": "code",
   "execution_count": 19,
   "metadata": {},
   "outputs": [
    {
     "data": {
      "text/html": [
       "<div>\n",
       "<style scoped>\n",
       "    .dataframe tbody tr th:only-of-type {\n",
       "        vertical-align: middle;\n",
       "    }\n",
       "\n",
       "    .dataframe tbody tr th {\n",
       "        vertical-align: top;\n",
       "    }\n",
       "\n",
       "    .dataframe thead th {\n",
       "        text-align: right;\n",
       "    }\n",
       "</style>\n",
       "<table border=\"1\" class=\"dataframe\">\n",
       "  <thead>\n",
       "    <tr style=\"text-align: right;\">\n",
       "      <th></th>\n",
       "      <th>BUYER_STATE</th>\n",
       "      <th>BUYER_COUNTY</th>\n",
       "      <th>BUYER_ZIP</th>\n",
       "      <th>TRANSACTION_DATE</th>\n",
       "      <th>DRUG_CODE</th>\n",
       "      <th>CALC_BASE_WT_IN_GM</th>\n",
       "      <th>MME_Conversion_Factor</th>\n",
       "      <th>MONTH</th>\n",
       "      <th>MME</th>\n",
       "    </tr>\n",
       "  </thead>\n",
       "  <tbody>\n",
       "    <tr>\n",
       "      <th>0</th>\n",
       "      <td>CA</td>\n",
       "      <td>VENTURA</td>\n",
       "      <td>93003</td>\n",
       "      <td>2092007</td>\n",
       "      <td>9193</td>\n",
       "      <td>0.60540</td>\n",
       "      <td>1.0</td>\n",
       "      <td>2</td>\n",
       "      <td>0.61</td>\n",
       "    </tr>\n",
       "    <tr>\n",
       "      <th>1</th>\n",
       "      <td>CO</td>\n",
       "      <td>PUEBLO</td>\n",
       "      <td>81005</td>\n",
       "      <td>1122009</td>\n",
       "      <td>9193</td>\n",
       "      <td>0.45405</td>\n",
       "      <td>1.0</td>\n",
       "      <td>1</td>\n",
       "      <td>0.45</td>\n",
       "    </tr>\n",
       "    <tr>\n",
       "      <th>2</th>\n",
       "      <td>WA</td>\n",
       "      <td>CLALLAM</td>\n",
       "      <td>98331</td>\n",
       "      <td>6152006</td>\n",
       "      <td>9193</td>\n",
       "      <td>3.63240</td>\n",
       "      <td>1.0</td>\n",
       "      <td>6</td>\n",
       "      <td>3.63</td>\n",
       "    </tr>\n",
       "    <tr>\n",
       "      <th>3</th>\n",
       "      <td>WA</td>\n",
       "      <td>CLALLAM</td>\n",
       "      <td>98331</td>\n",
       "      <td>10132006</td>\n",
       "      <td>9193</td>\n",
       "      <td>0.30270</td>\n",
       "      <td>1.0</td>\n",
       "      <td>10</td>\n",
       "      <td>0.30</td>\n",
       "    </tr>\n",
       "    <tr>\n",
       "      <th>4</th>\n",
       "      <td>WA</td>\n",
       "      <td>PIERCE</td>\n",
       "      <td>98390</td>\n",
       "      <td>3122007</td>\n",
       "      <td>9143</td>\n",
       "      <td>5.37900</td>\n",
       "      <td>1.5</td>\n",
       "      <td>3</td>\n",
       "      <td>8.07</td>\n",
       "    </tr>\n",
       "  </tbody>\n",
       "</table>\n",
       "</div>"
      ],
      "text/plain": [
       "  BUYER_STATE BUYER_COUNTY  BUYER_ZIP  TRANSACTION_DATE  DRUG_CODE  \\\n",
       "0          CA      VENTURA      93003           2092007       9193   \n",
       "1          CO       PUEBLO      81005           1122009       9193   \n",
       "2          WA      CLALLAM      98331           6152006       9193   \n",
       "3          WA      CLALLAM      98331          10132006       9193   \n",
       "4          WA       PIERCE      98390           3122007       9143   \n",
       "\n",
       "   CALC_BASE_WT_IN_GM  MME_Conversion_Factor  MONTH   MME  \n",
       "0             0.60540                    1.0      2  0.61  \n",
       "1             0.45405                    1.0      1  0.45  \n",
       "2             3.63240                    1.0      6  3.63  \n",
       "3             0.30270                    1.0     10  0.30  \n",
       "4             5.37900                    1.5      3  8.07  "
      ]
     },
     "execution_count": 19,
     "metadata": {},
     "output_type": "execute_result"
    }
   ],
   "source": [
    "# Read the csv created by Shipment_Data_Extraction (Group3:WA & 3 Other States) \n",
    "WA= pd.read_csv(\"shipment_WA.csv\")\n",
    "WA.head()"
   ]
  },
  {
   "cell_type": "code",
   "execution_count": 20,
   "metadata": {},
   "outputs": [],
   "source": [
    "WA=WA.rename(columns={\"MONTH\": \"YEAR/MONTH\"})"
   ]
  },
  {
   "cell_type": "code",
   "execution_count": 21,
   "metadata": {},
   "outputs": [],
   "source": [
    "#Change the values to MMYYYY Format\n",
    "WA['YEAR/MONTH']= (WA['TRANSACTION_DATE'].astype(str).str[-4:] + WA['TRANSACTION_DATE'].astype(str).str[:-6]).astype(int) "
   ]
  },
  {
   "cell_type": "code",
   "execution_count": 22,
   "metadata": {},
   "outputs": [
    {
     "data": {
      "text/html": [
       "<div>\n",
       "<style scoped>\n",
       "    .dataframe tbody tr th:only-of-type {\n",
       "        vertical-align: middle;\n",
       "    }\n",
       "\n",
       "    .dataframe tbody tr th {\n",
       "        vertical-align: top;\n",
       "    }\n",
       "\n",
       "    .dataframe thead th {\n",
       "        text-align: right;\n",
       "    }\n",
       "</style>\n",
       "<table border=\"1\" class=\"dataframe\">\n",
       "  <thead>\n",
       "    <tr style=\"text-align: right;\">\n",
       "      <th></th>\n",
       "      <th>BUYER_STATE</th>\n",
       "      <th>BUYER_COUNTY</th>\n",
       "      <th>BUYER_ZIP</th>\n",
       "      <th>TRANSACTION_DATE</th>\n",
       "      <th>DRUG_CODE</th>\n",
       "      <th>CALC_BASE_WT_IN_GM</th>\n",
       "      <th>MME_Conversion_Factor</th>\n",
       "      <th>YEAR/MONTH</th>\n",
       "      <th>MME</th>\n",
       "    </tr>\n",
       "  </thead>\n",
       "  <tbody>\n",
       "    <tr>\n",
       "      <th>0</th>\n",
       "      <td>CA</td>\n",
       "      <td>VENTURA</td>\n",
       "      <td>93003</td>\n",
       "      <td>2092007</td>\n",
       "      <td>9193</td>\n",
       "      <td>0.60540</td>\n",
       "      <td>1.0</td>\n",
       "      <td>20072</td>\n",
       "      <td>0.61</td>\n",
       "    </tr>\n",
       "    <tr>\n",
       "      <th>1</th>\n",
       "      <td>CO</td>\n",
       "      <td>PUEBLO</td>\n",
       "      <td>81005</td>\n",
       "      <td>1122009</td>\n",
       "      <td>9193</td>\n",
       "      <td>0.45405</td>\n",
       "      <td>1.0</td>\n",
       "      <td>20091</td>\n",
       "      <td>0.45</td>\n",
       "    </tr>\n",
       "    <tr>\n",
       "      <th>2</th>\n",
       "      <td>WA</td>\n",
       "      <td>CLALLAM</td>\n",
       "      <td>98331</td>\n",
       "      <td>6152006</td>\n",
       "      <td>9193</td>\n",
       "      <td>3.63240</td>\n",
       "      <td>1.0</td>\n",
       "      <td>20066</td>\n",
       "      <td>3.63</td>\n",
       "    </tr>\n",
       "    <tr>\n",
       "      <th>3</th>\n",
       "      <td>WA</td>\n",
       "      <td>CLALLAM</td>\n",
       "      <td>98331</td>\n",
       "      <td>10132006</td>\n",
       "      <td>9193</td>\n",
       "      <td>0.30270</td>\n",
       "      <td>1.0</td>\n",
       "      <td>200610</td>\n",
       "      <td>0.30</td>\n",
       "    </tr>\n",
       "    <tr>\n",
       "      <th>4</th>\n",
       "      <td>WA</td>\n",
       "      <td>PIERCE</td>\n",
       "      <td>98390</td>\n",
       "      <td>3122007</td>\n",
       "      <td>9143</td>\n",
       "      <td>5.37900</td>\n",
       "      <td>1.5</td>\n",
       "      <td>20073</td>\n",
       "      <td>8.07</td>\n",
       "    </tr>\n",
       "  </tbody>\n",
       "</table>\n",
       "</div>"
      ],
      "text/plain": [
       "  BUYER_STATE BUYER_COUNTY  BUYER_ZIP  TRANSACTION_DATE  DRUG_CODE  \\\n",
       "0          CA      VENTURA      93003           2092007       9193   \n",
       "1          CO       PUEBLO      81005           1122009       9193   \n",
       "2          WA      CLALLAM      98331           6152006       9193   \n",
       "3          WA      CLALLAM      98331          10132006       9193   \n",
       "4          WA       PIERCE      98390           3122007       9143   \n",
       "\n",
       "   CALC_BASE_WT_IN_GM  MME_Conversion_Factor  YEAR/MONTH   MME  \n",
       "0             0.60540                    1.0       20072  0.61  \n",
       "1             0.45405                    1.0       20091  0.45  \n",
       "2             3.63240                    1.0       20066  3.63  \n",
       "3             0.30270                    1.0      200610  0.30  \n",
       "4             5.37900                    1.5       20073  8.07  "
      ]
     },
     "execution_count": 22,
     "metadata": {},
     "output_type": "execute_result"
    }
   ],
   "source": [
    "#Check the result to make sure everything looks right\n",
    "WA.head()"
   ]
  },
  {
   "cell_type": "code",
   "execution_count": 24,
   "metadata": {},
   "outputs": [],
   "source": [
    "#Drop the unnecessary columns\n",
    "WA1=WA.drop(axis=1,columns=drop)"
   ]
  },
  {
   "cell_type": "code",
   "execution_count": 25,
   "metadata": {},
   "outputs": [],
   "source": [
    "#Group By State, County, and Year/Month\n",
    "WA_agg=WA1.groupby(['BUYER_STATE','BUYER_COUNTY','YEAR/MONTH'],as_index=False).sum()"
   ]
  },
  {
   "cell_type": "code",
   "execution_count": 26,
   "metadata": {},
   "outputs": [
    {
     "data": {
      "text/html": [
       "<div>\n",
       "<style scoped>\n",
       "    .dataframe tbody tr th:only-of-type {\n",
       "        vertical-align: middle;\n",
       "    }\n",
       "\n",
       "    .dataframe tbody tr th {\n",
       "        vertical-align: top;\n",
       "    }\n",
       "\n",
       "    .dataframe thead th {\n",
       "        text-align: right;\n",
       "    }\n",
       "</style>\n",
       "<table border=\"1\" class=\"dataframe\">\n",
       "  <thead>\n",
       "    <tr style=\"text-align: right;\">\n",
       "      <th></th>\n",
       "      <th>BUYER_STATE</th>\n",
       "      <th>BUYER_COUNTY</th>\n",
       "      <th>YEAR/MONTH</th>\n",
       "      <th>MME</th>\n",
       "    </tr>\n",
       "  </thead>\n",
       "  <tbody>\n",
       "    <tr>\n",
       "      <th>0</th>\n",
       "      <td>CA</td>\n",
       "      <td>ALAMEDA</td>\n",
       "      <td>20061</td>\n",
       "      <td>29511.44</td>\n",
       "    </tr>\n",
       "    <tr>\n",
       "      <th>1</th>\n",
       "      <td>CA</td>\n",
       "      <td>ALAMEDA</td>\n",
       "      <td>20062</td>\n",
       "      <td>25124.56</td>\n",
       "    </tr>\n",
       "    <tr>\n",
       "      <th>2</th>\n",
       "      <td>CA</td>\n",
       "      <td>ALAMEDA</td>\n",
       "      <td>20063</td>\n",
       "      <td>33543.35</td>\n",
       "    </tr>\n",
       "    <tr>\n",
       "      <th>3</th>\n",
       "      <td>CA</td>\n",
       "      <td>ALAMEDA</td>\n",
       "      <td>20064</td>\n",
       "      <td>28110.13</td>\n",
       "    </tr>\n",
       "    <tr>\n",
       "      <th>4</th>\n",
       "      <td>CA</td>\n",
       "      <td>ALAMEDA</td>\n",
       "      <td>20065</td>\n",
       "      <td>29204.35</td>\n",
       "    </tr>\n",
       "  </tbody>\n",
       "</table>\n",
       "</div>"
      ],
      "text/plain": [
       "  BUYER_STATE BUYER_COUNTY  YEAR/MONTH       MME\n",
       "0          CA      ALAMEDA       20061  29511.44\n",
       "1          CA      ALAMEDA       20062  25124.56\n",
       "2          CA      ALAMEDA       20063  33543.35\n",
       "3          CA      ALAMEDA       20064  28110.13\n",
       "4          CA      ALAMEDA       20065  29204.35"
      ]
     },
     "execution_count": 26,
     "metadata": {},
     "output_type": "execute_result"
    }
   ],
   "source": [
    "#Check the result to make sure everything looks right\n",
    "WA_agg.head()"
   ]
  },
  {
   "cell_type": "code",
   "execution_count": 28,
   "metadata": {},
   "outputs": [
    {
     "data": {
      "text/plain": [
       "29511.44"
      ]
     },
     "execution_count": 28,
     "metadata": {},
     "output_type": "execute_result"
    }
   ],
   "source": [
    "#Check if the MME sum is correct\n",
    "WA1[(WA1['BUYER_STATE']=='CA') &(WA1['BUYER_COUNTY']=='ALAMEDA') & (WA1['YEAR/MONTH']==20061)]['MME'].sum()"
   ]
  },
  {
   "cell_type": "markdown",
   "metadata": {},
   "source": [
    "## Concatenate all 3 dataframes into one big dataframe"
   ]
  },
  {
   "cell_type": "code",
   "execution_count": 29,
   "metadata": {},
   "outputs": [],
   "source": [
    "SHIPMENT_agg = pd.concat([FL_agg, TX_agg, WA_agg], axis=0)"
   ]
  },
  {
   "cell_type": "code",
   "execution_count": 32,
   "metadata": {},
   "outputs": [
    {
     "data": {
      "text/plain": [
       "TX    18727\n",
       "KS     8340\n",
       "AR     6250\n",
       "CA     4799\n",
       "CO     4728\n",
       "WA     3276\n",
       "OR     2879\n",
       "NM     2466\n",
       "MS      567\n",
       "FL      466\n",
       "LA      443\n",
       "SC      322\n",
       "Name: BUYER_STATE, dtype: int64"
      ]
     },
     "execution_count": 32,
     "metadata": {},
     "output_type": "execute_result"
    }
   ],
   "source": [
    "#Check the result to make sure everything looks good \n",
    "SHIPMENT_agg['BUYER_STATE'].value_counts()"
   ]
  },
  {
   "cell_type": "code",
   "execution_count": 33,
   "metadata": {},
   "outputs": [],
   "source": [
    "#Convert to CSV\n",
    "SHIPMENT_agg.to_csv(r'/Users/Dean Huang/Documents/Duke University (MIDS 2022)/Fall 2020/IDS 720/Team Project/SHIPMENT_agg.csv',index=False, header=True)"
   ]
  }
 ],
 "metadata": {
  "kernelspec": {
   "display_name": "Python 3",
   "language": "python",
   "name": "python3"
  },
  "language_info": {
   "codemirror_mode": {
    "name": "ipython",
    "version": 3
   },
   "file_extension": ".py",
   "mimetype": "text/x-python",
   "name": "python",
   "nbconvert_exporter": "python",
   "pygments_lexer": "ipython3",
   "version": "3.8.5"
  }
 },
 "nbformat": 4,
 "nbformat_minor": 4
}
