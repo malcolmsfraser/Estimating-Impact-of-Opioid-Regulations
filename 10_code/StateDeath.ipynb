{
 "cells": [
  {
   "cell_type": "markdown",
   "metadata": {},
   "source": [
    "# overdose death"
   ]
  },
  {
   "cell_type": "code",
   "execution_count": 1,
   "metadata": {},
   "outputs": [],
   "source": [
    "import pandas as pd\n",
    "import numpy as np\n",
    "from zipfile import ZipFile\n",
    "import re"
   ]
  },
  {
   "cell_type": "code",
   "execution_count": 2,
   "metadata": {},
   "outputs": [],
   "source": [
    "# read in US death statistics\n",
    "original_zip = ZipFile('US_VitalStatistics.zip', 'r')\n",
    "new_zip = ZipFile('new_archve.zip', 'w')\n",
    "for item in original_zip.infolist():\n",
    "    buffer = original_zip.read(item.filename)\n",
    "    if not str(item.filename).startswith('__MACOSX/'):\n",
    "        new_zip.writestr(item, buffer)\n",
    "new_zip.close()\n",
    "original_zip.close()"
   ]
  },
  {
   "cell_type": "code",
   "execution_count": 3,
   "metadata": {},
   "outputs": [],
   "source": [
    "new_zip = ZipFile('new_archve.zip', 'r')\n",
    "dfs = {}\n",
    "\n",
    "for text_file in new_zip.infolist():\n",
    "    dfs[re.search('2\\d\\d\\d', text_file.filename).group(0)] = pd.read_csv(new_zip.open(text_file.filename), sep = \"\\t\", usecols = [1, 2, 3, 5, 7])[:-15]\n",
    "    pass\n",
    "\n",
    "origin = pd.DataFrame({})\n",
    "for key in dfs.keys():\n",
    "    origin = origin.append(dfs[key])\n",
    "origin.drop('County Code', axis = 1, inplace = True)"
   ]
  },
  {
   "cell_type": "code",
   "execution_count": 4,
   "metadata": {},
   "outputs": [
    {
     "data": {
      "text/plain": [
       "array(['All other non-drug and non-alcohol causes',\n",
       "       'Drug poisonings (overdose) Unintentional (X40-X44)',\n",
       "       'Drug poisonings (overdose) Undetermined (Y10-Y14)',\n",
       "       'Drug poisonings (overdose) Suicide (X60-X64)',\n",
       "       'All other drug-induced causes',\n",
       "       'All other alcohol-induced causes',\n",
       "       'Alcohol poisonings (overdose) (X45, X65, Y15)',\n",
       "       'Drug poisonings (overdose) Homicide (X85)'], dtype=object)"
      ]
     },
     "execution_count": 4,
     "metadata": {},
     "output_type": "execute_result"
    }
   ],
   "source": [
    "origin['Drug/Alcohol Induced Cause'].unique()"
   ]
  },
  {
   "cell_type": "code",
   "execution_count": 5,
   "metadata": {},
   "outputs": [],
   "source": [
    "# check whihc county has missing value\n",
    "origin[origin['Deaths'] == 'Missing']['County'].unique()\n",
    "# index_names = origin[origin['Deaths'] == 'Missing'].index\n",
    "# origin = origin.drop(index_names)\n",
    "\n",
    "# replace missing value with 10\n",
    "origin['Deaths'] = origin['Deaths'].replace('Missing', 10)"
   ]
  },
  {
   "cell_type": "code",
   "execution_count": 6,
   "metadata": {},
   "outputs": [],
   "source": [
    "origin['Deaths'] = origin['Deaths'].astype('int64')\n",
    "origin['Year'] = origin['Year'].astype('int64')\n",
    "origin[['County','State']] = origin.County.str.split(\", \",expand=True,)"
   ]
  },
  {
   "cell_type": "code",
   "execution_count": 7,
   "metadata": {},
   "outputs": [],
   "source": [
    "# convert abbreviation to full name\n",
    "states = {\n",
    "        'AK': 'Alaska',\n",
    "        'AL': 'Alabama',\n",
    "        'AR': 'Arkansas',\n",
    "        'AS': 'American Samoa',\n",
    "        'AZ': 'Arizona',\n",
    "        'CA': 'California',\n",
    "        'CO': 'Colorado',\n",
    "        'CT': 'Connecticut',\n",
    "        'DC': 'District of Columbia',\n",
    "        'DE': 'Delaware',\n",
    "        'FL': 'Florida',\n",
    "        'GA': 'Georgia',\n",
    "        'GU': 'Guam',\n",
    "        'HI': 'Hawaii',\n",
    "        'IA': 'Iowa',\n",
    "        'ID': 'Idaho',\n",
    "        'IL': 'Illinois',\n",
    "        'IN': 'Indiana',\n",
    "        'KS': 'Kansas',\n",
    "        'KY': 'Kentucky',\n",
    "        'LA': 'Louisiana',\n",
    "        'MA': 'Massachusetts',\n",
    "        'MD': 'Maryland',\n",
    "        'ME': 'Maine',\n",
    "        'MI': 'Michigan',\n",
    "        'MN': 'Minnesota',\n",
    "        'MO': 'Missouri',\n",
    "        'MP': 'Northern Mariana Islands',\n",
    "        'MS': 'Mississippi',\n",
    "        'MT': 'Montana',\n",
    "        'NA': 'National',\n",
    "        'NC': 'North Carolina',\n",
    "        'ND': 'North Dakota',\n",
    "        'NE': 'Nebraska',\n",
    "        'NH': 'New Hampshire',\n",
    "        'NJ': 'New Jersey',\n",
    "        'NM': 'New Mexico',\n",
    "        'NV': 'Nevada',\n",
    "        'NY': 'New York',\n",
    "        'OH': 'Ohio',\n",
    "        'OK': 'Oklahoma',\n",
    "        'OR': 'Oregon',\n",
    "        'PA': 'Pennsylvania',\n",
    "        'PR': 'Puerto Rico',\n",
    "        'RI': 'Rhode Island',\n",
    "        'SC': 'South Carolina',\n",
    "        'SD': 'South Dakota',\n",
    "        'TN': 'Tennessee',\n",
    "        'TX': 'Texas',\n",
    "        'UT': 'Utah',\n",
    "        'VA': 'Virginia',\n",
    "        'VI': 'Virgin Islands',\n",
    "        'VT': 'Vermont',\n",
    "        'WA': 'Washington',\n",
    "        'WI': 'Wisconsin',\n",
    "        'WV': 'West Virginia',\n",
    "        'WY': 'Wyoming'\n",
    "}\n",
    "origin['State'] = origin['State'].map(states)"
   ]
  },
  {
   "cell_type": "markdown",
   "metadata": {},
   "source": [
    "# pop"
   ]
  },
  {
   "cell_type": "code",
   "execution_count": null,
   "metadata": {},
   "outputs": [],
   "source": [
    "pop = pd.read_csv('FinalPopDataset.csv')"
   ]
  },
  {
   "cell_type": "markdown",
   "metadata": {},
   "source": [
    "# merging overdose and pop"
   ]
  },
  {
   "cell_type": "code",
   "execution_count": 10,
   "metadata": {},
   "outputs": [],
   "source": [
    "final = pd.merge(pop, origin, how = 'left', left_on = ['STATE', 'COUNTY', 'YEAR'], right_on = ['State', 'County', 'Year'], indicator = True)\n",
    "final.value_counts('_merge')"
   ]
  },
  {
   "cell_type": "code",
   "execution_count": 12,
   "metadata": {},
   "outputs": [],
   "source": [
    "final.drop(['County', 'Year', 'State'], axis = 1, inplace = True)\n",
    "states = final.STATE.unique().copy()\n",
    "deathTypes = origin['Drug/Alcohol Induced Cause'].unique().copy()\n",
    "years = final.YEAR.unique().copy()"
   ]
  },
  {
   "cell_type": "code",
   "execution_count": 13,
   "metadata": {},
   "outputs": [],
   "source": [
    "#states = ['Florida', 'Texas', 'Washington', 'Louisiana', 'Mississippi', 'South Carolina', 'Arkansas', 'New Mexico', 'Kansas', 'Colorado', 'Oregon', 'California']\n",
    "years = sorted(origin['Year'].unique()).copy()\n",
    "final = final[final['STATE'].isin(states) & (final['YEAR'] >= 2003) & (final['YEAR'] <= 2015)].reset_index(drop = True).copy()"
   ]
  },
  {
   "cell_type": "code",
   "execution_count": 15,
   "metadata": {},
   "outputs": [],
   "source": [
    "state_county = {}\n",
    "\n",
    "for state in states:\n",
    "    counties = final[final['STATE'] == state]['COUNTY'].unique().copy()\n",
    "    state_county[state] = counties\n",
    "    pass"
   ]
  },
  {
   "cell_type": "code",
   "execution_count": 16,
   "metadata": {},
   "outputs": [],
   "source": [
    "for state, counties in state_county.items():\n",
    "    for county in counties: \n",
    "        for year in years:\n",
    "            window = final[(final['STATE'] == state) & (final['COUNTY'] == county) & (final['YEAR'] == year)].copy()\n",
    "            population = window['POP'].iloc[0]\n",
    "            for death in deathTypes:\n",
    "                existingDeath = window['Drug/Alcohol Induced Cause'].unique()\n",
    "                if death not in existingDeath:\n",
    "                    new_row = {'STATE':state, 'COUNTY':county, 'YEAR':year, 'POP':population, 'Drug/Alcohol Induced Cause':death, 'Deaths':0, '_merge':'Missing'}\n",
    "                    final = final.append(new_row, ignore_index=True).copy()"
   ]
  },
  {
   "cell_type": "markdown",
   "metadata": {},
   "source": [
    "# dont't mess with the result"
   ]
  },
  {
   "cell_type": "code",
   "execution_count": 17,
   "metadata": {},
   "outputs": [],
   "source": [
    "sub = final.copy()"
   ]
  },
  {
   "cell_type": "code",
   "execution_count": 18,
   "metadata": {},
   "outputs": [],
   "source": [
    "index_names = sub[sub['_merge'] == 'left_only'].index\n",
    "sub = sub.drop(index_names)"
   ]
  },
  {
   "cell_type": "code",
   "execution_count": 19,
   "metadata": {},
   "outputs": [
    {
     "data": {
      "text/plain": [
       "_merge\n",
       "Missing    275039\n",
       "both        56929\n",
       "dtype: int64"
      ]
     },
     "execution_count": 19,
     "metadata": {},
     "output_type": "execute_result"
    }
   ],
   "source": [
    "sub.value_counts('_merge')"
   ]
  },
  {
   "cell_type": "code",
   "execution_count": 20,
   "metadata": {},
   "outputs": [],
   "source": [
    "sub.drop('_merge', axis = 1, inplace = True)"
   ]
  },
  {
   "cell_type": "markdown",
   "metadata": {},
   "source": [
    "# calculate overdose death"
   ]
  },
  {
   "cell_type": "code",
   "execution_count": 22,
   "metadata": {},
   "outputs": [],
   "source": [
    "names = []\n",
    "for name in sub['Drug/Alcohol Induced Cause'].unique():\n",
    "    if re.match('Drug poisonings.*', name):\n",
    "        names.append(name)\n",
    "        pass\n",
    "    pass\n",
    "\n",
    "interDose = sub[sub['Drug/Alcohol Induced Cause'].isin(names)].copy()"
   ]
  },
  {
   "cell_type": "code",
   "execution_count": 24,
   "metadata": {},
   "outputs": [
    {
     "data": {
      "text/plain": [
       "255"
      ]
     },
     "execution_count": 24,
     "metadata": {},
     "output_type": "execute_result"
    }
   ],
   "source": [
    "len(interDose[interDose['STATE'] == 'Texas']['COUNTY'].unique())"
   ]
  },
  {
   "cell_type": "code",
   "execution_count": 25,
   "metadata": {},
   "outputs": [],
   "source": [
    "finalDose = interDose.groupby(['STATE', 'COUNTY', 'YEAR'], as_index = False).sum()[['STATE','COUNTY','YEAR','Deaths']].rename({'Deaths':'TotalOverdose'}, axis = 'columns').copy()"
   ]
  },
  {
   "cell_type": "code",
   "execution_count": 26,
   "metadata": {},
   "outputs": [],
   "source": [
    "finalDose.loc[finalDose.TotalOverdose == 0, \"TotalOverdose\" ] = 10\n",
    "finalDose.loc[finalDose.COUNTY == 'Loving County', \"TotalOverdose\" ] = 1\n",
    "finalDose.loc[finalDose.COUNTY == 'King County', \"TotalOverdose\" ] = 1"
   ]
  },
  {
   "cell_type": "code",
   "execution_count": 30,
   "metadata": {},
   "outputs": [],
   "source": [
    "# subset population dataset\n",
    "subPop = pop[pop['STATE'].isin(states) & (pop['YEAR'] >= 2003) & (pop['YEAR'] <= 2015)].reset_index(drop = True).copy()"
   ]
  },
  {
   "cell_type": "code",
   "execution_count": 31,
   "metadata": {},
   "outputs": [],
   "source": [
    "index_names = subPop[subPop['COUNTY'].isin(states)].index\n",
    "subPop = subPop.drop(index_names)"
   ]
  },
  {
   "cell_type": "code",
   "execution_count": 32,
   "metadata": {},
   "outputs": [
    {
     "data": {
      "text/plain": [
       "both          40833\n",
       "right_only        0\n",
       "left_only         0\n",
       "Name: _merge, dtype: int64"
      ]
     },
     "execution_count": 32,
     "metadata": {},
     "output_type": "execute_result"
    }
   ],
   "source": [
    "correct = pd.merge(subPop, finalDose, how = 'left', on = ['STATE', 'COUNTY', 'YEAR'], indicator = True)\n",
    "# ensure that every row has a corresponding row in the other dataframe\n",
    "correct._merge.value_counts()"
   ]
  },
  {
   "cell_type": "code",
   "execution_count": 33,
   "metadata": {},
   "outputs": [],
   "source": [
    "correct.drop('_merge', axis = 1, inplace = True)"
   ]
  },
  {
   "cell_type": "code",
   "execution_count": 34,
   "metadata": {},
   "outputs": [],
   "source": [
    "correct.loc[correct.POP < 1000, \"TotalOverdose\" ] = 1"
   ]
  },
  {
   "cell_type": "code",
   "execution_count": 35,
   "metadata": {},
   "outputs": [],
   "source": [
    "correct['OverdoseProp'] = correct['TotalOverdose'] / correct['POP']"
   ]
  },
  {
   "cell_type": "code",
   "execution_count": 36,
   "metadata": {},
   "outputs": [],
   "source": [
    "correct['PolicyState'] = (correct['STATE'] == 'Florida') | ((correct['STATE'] == 'Texas')) | (correct['STATE'] == 'Washington')"
   ]
  },
  {
   "cell_type": "code",
   "execution_count": 37,
   "metadata": {},
   "outputs": [],
   "source": [
    "nearFL = ['Florida', 'Louisiana', 'Mississippi', 'South Carolina']\n",
    "nearTX = ['Texas', 'Arkansas', 'New Mexico', 'Kansas']\n",
    "nearWA = ['Washington', 'Colorado', 'Oregon', 'California']"
   ]
  },
  {
   "cell_type": "code",
   "execution_count": 38,
   "metadata": {},
   "outputs": [],
   "source": [
    "correct['Post'] = ((correct['STATE'].isin(nearFL)) & (correct['YEAR'] >= 2010)) | ((correct['STATE'].isin(nearTX)) & (correct['YEAR'] >= 2007)) | ((correct['STATE'].isin(nearWA)) & (correct['YEAR'] >= 2012))"
   ]
  },
  {
   "cell_type": "code",
   "execution_count": 39,
   "metadata": {},
   "outputs": [
    {
     "data": {
      "text/plain": [
       "254"
      ]
     },
     "execution_count": 39,
     "metadata": {},
     "output_type": "execute_result"
    }
   ],
   "source": [
    "len(correct[correct['STATE'] == 'Texas']['COUNTY'].unique())"
   ]
  },
  {
   "cell_type": "code",
   "execution_count": 40,
   "metadata": {},
   "outputs": [],
   "source": [
    "correct.to_csv('state_county_death.csv', index = False)"
   ]
  },
  {
   "cell_type": "code",
   "execution_count": null,
   "metadata": {},
   "outputs": [],
   "source": []
  }
 ],
 "metadata": {
  "kernelspec": {
   "display_name": "Python 3",
   "language": "python",
   "name": "python3"
  },
  "language_info": {
   "codemirror_mode": {
    "name": "ipython",
    "version": 3
   },
   "file_extension": ".py",
   "mimetype": "text/x-python",
   "name": "python",
   "nbconvert_exporter": "python",
   "pygments_lexer": "ipython3",
   "version": "3.8.3"
  }
 },
 "nbformat": 4,
 "nbformat_minor": 4
}
