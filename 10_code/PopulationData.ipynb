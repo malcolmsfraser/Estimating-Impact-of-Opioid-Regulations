{
 "cells": [
  {
   "cell_type": "code",
   "execution_count": 1,
   "metadata": {},
   "outputs": [],
   "source": [
    "# pip install nb_black\n",
    "%load_ext lab_black\n",
    "import pandas as pd\n",
    "import numpy as np"
   ]
  },
  {
   "cell_type": "code",
   "execution_count": 2,
   "metadata": {},
   "outputs": [],
   "source": [
    "pop_2000_2009 = pd.read_csv(\n",
    "    \"../00_source/CensusEstimates2000-2010.csv\", encoding=\"latin-1\"\n",
    ")\n",
    "pop_2010_2019 = pd.read_csv(\n",
    "    \"../00_source/CensusEstimates2010-2019.csv\", encoding=\"latin-1\"\n",
    ")"
   ]
  },
  {
   "cell_type": "code",
   "execution_count": 3,
   "metadata": {},
   "outputs": [
    {
     "name": "stdout",
     "output_type": "stream",
     "text": [
      "<class 'pandas.core.frame.DataFrame'>\n",
      "RangeIndex: 3194 entries, 0 to 3193\n",
      "Data columns (total 20 columns):\n",
      " #   Column             Non-Null Count  Dtype \n",
      "---  ------             --------------  ----- \n",
      " 0   SUMLEV             3194 non-null   int64 \n",
      " 1   REGION             3194 non-null   int64 \n",
      " 2   DIVISION           3194 non-null   int64 \n",
      " 3   STATE              3194 non-null   int64 \n",
      " 4   COUNTY             3194 non-null   int64 \n",
      " 5   STNAME             3194 non-null   object\n",
      " 6   CTYNAME            3194 non-null   object\n",
      " 7   ESTIMATESBASE2000  3194 non-null   int64 \n",
      " 8   POPESTIMATE2000    3194 non-null   int64 \n",
      " 9   POPESTIMATE2001    3194 non-null   int64 \n",
      " 10  POPESTIMATE2002    3194 non-null   int64 \n",
      " 11  POPESTIMATE2003    3194 non-null   int64 \n",
      " 12  POPESTIMATE2004    3194 non-null   int64 \n",
      " 13  POPESTIMATE2005    3194 non-null   int64 \n",
      " 14  POPESTIMATE2006    3194 non-null   int64 \n",
      " 15  POPESTIMATE2007    3194 non-null   int64 \n",
      " 16  POPESTIMATE2008    3194 non-null   int64 \n",
      " 17  POPESTIMATE2009    3194 non-null   int64 \n",
      " 18  CENSUS2010POP      3194 non-null   int64 \n",
      " 19  POPESTIMATE2010    3194 non-null   int64 \n",
      "dtypes: int64(18), object(2)\n",
      "memory usage: 499.2+ KB\n"
     ]
    }
   ],
   "source": [
    "pop_2000_2009.info()\n",
    "# No missing values"
   ]
  },
  {
   "cell_type": "code",
   "execution_count": 4,
   "metadata": {},
   "outputs": [
    {
     "name": "stdout",
     "output_type": "stream",
     "text": [
      "3194 3193\n"
     ]
    }
   ],
   "source": [
    "# 2000-2009\n",
    "pop_2000_2009 = pop_2000_2009[\n",
    "    [\n",
    "        \"STNAME\",\n",
    "        \"CTYNAME\",\n",
    "        \"POPESTIMATE2000\",\n",
    "        \"POPESTIMATE2001\",\n",
    "        \"POPESTIMATE2002\",\n",
    "        \"POPESTIMATE2003\",\n",
    "        \"POPESTIMATE2004\",\n",
    "        \"POPESTIMATE2005\",\n",
    "        \"POPESTIMATE2006\",\n",
    "        \"POPESTIMATE2007\",\n",
    "        \"POPESTIMATE2008\",\n",
    "        \"POPESTIMATE2009\",\n",
    "    ]\n",
    "]\n",
    "# pop_2000_2009.head()\n",
    "\n",
    "# 2010-2019\n",
    "pop_2010_2019 = pop_2010_2019[\n",
    "    [\n",
    "        \"STNAME\",\n",
    "        \"CTYNAME\",\n",
    "        \"CENSUS2010POP\",\n",
    "        \"POPESTIMATE2011\",\n",
    "        \"POPESTIMATE2012\",\n",
    "        \"POPESTIMATE2013\",\n",
    "        \"POPESTIMATE2014\",\n",
    "        \"POPESTIMATE2015\",\n",
    "        \"POPESTIMATE2016\",\n",
    "        \"POPESTIMATE2017\",\n",
    "        \"POPESTIMATE2018\",\n",
    "        \"POPESTIMATE2019\",\n",
    "    ]\n",
    "]\n",
    "\n",
    "print(len(pop_2000_2009), len(pop_2010_2019))\n",
    "pop_2010_2019.rename(columns={\"CENSUS2010POP\": \"CENSUS2010\"}, inplace=True)"
   ]
  },
  {
   "cell_type": "code",
   "execution_count": 5,
   "metadata": {},
   "outputs": [
    {
     "name": "stdout",
     "output_type": "stream",
     "text": [
      "2000-2009 Duplicates:\n",
      "\n",
      "                   STNAME               CTYNAME  POPESTIMATE2000  \\\n",
      "327  District of Columbia  District of Columbia           572046   \n",
      "328  District of Columbia  District of Columbia           572046   \n",
      "\n",
      "     POPESTIMATE2001  POPESTIMATE2002  POPESTIMATE2003  POPESTIMATE2004  \\\n",
      "327           574504           573158           568502           567754   \n",
      "328           574504           573158           568502           567754   \n",
      "\n",
      "     POPESTIMATE2005  POPESTIMATE2006  POPESTIMATE2007  POPESTIMATE2008  \\\n",
      "327           567136           570681           574404           580236   \n",
      "328           567136           570681           574404           580236   \n",
      "\n",
      "     POPESTIMATE2009  \n",
      "327           592228  \n",
      "328           592228  \n",
      "\n",
      "\n",
      "2010-2019 Duplicates:\n",
      "\n",
      "                   STNAME               CTYNAME  CENSUS2010  POPESTIMATE2011  \\\n",
      "327  District of Columbia  District of Columbia      601723           619800   \n",
      "328  District of Columbia  District of Columbia      601723           619800   \n",
      "\n",
      "     POPESTIMATE2012  POPESTIMATE2013  POPESTIMATE2014  POPESTIMATE2015  \\\n",
      "327           634924           650581           662328           675400   \n",
      "328           634924           650581           662328           675400   \n",
      "\n",
      "     POPESTIMATE2016  POPESTIMATE2017  POPESTIMATE2018  POPESTIMATE2019  \n",
      "327           685815           694906           701547           705749  \n",
      "328           685815           694906           701547           705749  \n"
     ]
    }
   ],
   "source": [
    "pop_2000_2009_duplicates = pop_2000_2009[pop_2000_2009.duplicated(keep=False)]\n",
    "print(f\"2000-2009 Duplicates:\\n\\n{pop_2000_2009_duplicates}\\n\\n\")\n",
    "pop_2010_2019_duplicates = pop_2010_2019[pop_2010_2019.duplicated(keep=False)]\n",
    "print(f\"2010-2019 Duplicates:\\n\\n{pop_2010_2019_duplicates}\")"
   ]
  },
  {
   "cell_type": "markdown",
   "metadata": {},
   "source": [
    "#### Exact duplicate of DC in both...okay to drop"
   ]
  },
  {
   "cell_type": "code",
   "execution_count": 6,
   "metadata": {},
   "outputs": [],
   "source": [
    "pop_2000_2009.drop(328, inplace=True)\n",
    "pop_2010_2019.drop(328, inplace=True)\n",
    "assert not pop_2000_2009.duplicated().any()\n",
    "assert not pop_2010_2019.duplicated().any()"
   ]
  },
  {
   "cell_type": "code",
   "execution_count": 7,
   "metadata": {},
   "outputs": [
    {
     "name": "stdout",
     "output_type": "stream",
     "text": [
      "3193 3192\n"
     ]
    }
   ],
   "source": [
    "print(len(pop_2000_2009), len(pop_2010_2019))"
   ]
  },
  {
   "cell_type": "code",
   "execution_count": 8,
   "metadata": {},
   "outputs": [],
   "source": [
    "pop_00_09 = pd.melt(pop_2000_2009, [\"STNAME\", \"CTYNAME\"])\n",
    "assert not pop_00_09.duplicated().any()\n",
    "\n",
    "pop_10_19 = pd.melt(pop_2010_2019, [\"STNAME\", \"CTYNAME\"])\n",
    "assert not pop_10_19.duplicated().any()"
   ]
  },
  {
   "cell_type": "code",
   "execution_count": 9,
   "metadata": {},
   "outputs": [],
   "source": [
    "pop_00_09.rename(columns={\"variable\": \"YEAR\", \"value\": \"POP\"}, inplace=True)\n",
    "pop_10_19.rename(columns={\"variable\": \"YEAR\", \"value\": \"POP\"}, inplace=True)"
   ]
  },
  {
   "cell_type": "code",
   "execution_count": 10,
   "metadata": {},
   "outputs": [],
   "source": [
    "pop_00_09[\"YEAR\"] = pop_00_09[\"YEAR\"].apply(lambda x: x[-4:])\n",
    "pop_10_19[\"YEAR\"] = pop_10_19[\"YEAR\"].apply(lambda x: x[-4:])"
   ]
  },
  {
   "cell_type": "code",
   "execution_count": 11,
   "metadata": {},
   "outputs": [
    {
     "name": "stdout",
     "output_type": "stream",
     "text": [
      "680\n",
      "680\n",
      "Florida\n",
      "2550\n",
      "2550\n",
      "Texas\n",
      "400\n",
      "400\n",
      "Washington\n"
     ]
    }
   ],
   "source": [
    "states = [\"Florida\", \"Texas\", \"Washington\"]\n",
    "\n",
    "for state in states:\n",
    "    len1 = len(pop_00_09[pop_00_09[\"STNAME\"] == state])\n",
    "    len2 = len(pop_10_19[pop_10_19[\"STNAME\"] == state])\n",
    "    print(len1)\n",
    "    print(len2)\n",
    "    assert len1 == len2\n",
    "    print(state)"
   ]
  },
  {
   "cell_type": "markdown",
   "metadata": {},
   "source": [
    "#### Our target states have the same number of counties in both population sets"
   ]
  },
  {
   "cell_type": "code",
   "execution_count": 12,
   "metadata": {},
   "outputs": [
    {
     "data": {
      "text/html": [
       "<div>\n",
       "<style scoped>\n",
       "    .dataframe tbody tr th:only-of-type {\n",
       "        vertical-align: middle;\n",
       "    }\n",
       "\n",
       "    .dataframe tbody tr th {\n",
       "        vertical-align: top;\n",
       "    }\n",
       "\n",
       "    .dataframe thead th {\n",
       "        text-align: right;\n",
       "    }\n",
       "</style>\n",
       "<table border=\"1\" class=\"dataframe\">\n",
       "  <thead>\n",
       "    <tr style=\"text-align: right;\">\n",
       "      <th></th>\n",
       "      <th>STNAME</th>\n",
       "      <th>CTYNAME</th>\n",
       "      <th>YEAR</th>\n",
       "      <th>POP</th>\n",
       "    </tr>\n",
       "  </thead>\n",
       "  <tbody>\n",
       "    <tr>\n",
       "      <th>0</th>\n",
       "      <td>Alabama</td>\n",
       "      <td>Alabama</td>\n",
       "      <td>2010</td>\n",
       "      <td>4779736</td>\n",
       "    </tr>\n",
       "    <tr>\n",
       "      <th>1</th>\n",
       "      <td>Alabama</td>\n",
       "      <td>Autauga County</td>\n",
       "      <td>2010</td>\n",
       "      <td>54571</td>\n",
       "    </tr>\n",
       "    <tr>\n",
       "      <th>2</th>\n",
       "      <td>Alabama</td>\n",
       "      <td>Baldwin County</td>\n",
       "      <td>2010</td>\n",
       "      <td>182265</td>\n",
       "    </tr>\n",
       "    <tr>\n",
       "      <th>3</th>\n",
       "      <td>Alabama</td>\n",
       "      <td>Barbour County</td>\n",
       "      <td>2010</td>\n",
       "      <td>27457</td>\n",
       "    </tr>\n",
       "    <tr>\n",
       "      <th>4</th>\n",
       "      <td>Alabama</td>\n",
       "      <td>Bibb County</td>\n",
       "      <td>2010</td>\n",
       "      <td>22915</td>\n",
       "    </tr>\n",
       "  </tbody>\n",
       "</table>\n",
       "</div>"
      ],
      "text/plain": [
       "    STNAME         CTYNAME  YEAR      POP\n",
       "0  Alabama         Alabama  2010  4779736\n",
       "1  Alabama  Autauga County  2010    54571\n",
       "2  Alabama  Baldwin County  2010   182265\n",
       "3  Alabama  Barbour County  2010    27457\n",
       "4  Alabama     Bibb County  2010    22915"
      ]
     },
     "execution_count": 12,
     "metadata": {},
     "output_type": "execute_result"
    }
   ],
   "source": [
    "pop_10_19.head()"
   ]
  },
  {
   "cell_type": "code",
   "execution_count": 13,
   "metadata": {},
   "outputs": [],
   "source": [
    "merge = pd.merge(\n",
    "    pop_00_09, pop_10_19, on=[\"STNAME\", \"CTYNAME\"], how=\"outer\", indicator=True\n",
    ")\n",
    "# assert merge[merge[\"_merge\"] != \"both\"].isnull().all().all()"
   ]
  },
  {
   "cell_type": "markdown",
   "metadata": {},
   "source": [
    "#### There are uneven counts in each dataset"
   ]
  },
  {
   "cell_type": "code",
   "execution_count": 14,
   "metadata": {},
   "outputs": [
    {
     "data": {
      "text/plain": [
       "STNAME        CTYNAME                   _merge    \n",
       "Virginia      Bedford city              left_only     10\n",
       "South Dakota  Shannon County            left_only     10\n",
       "              Oglala Lakota County      right_only    10\n",
       "Louisiana     LaSalle Parish            right_only    10\n",
       "              La Salle Parish           left_only     10\n",
       "Alaska        Wade Hampton Census Area  left_only     10\n",
       "              Petersburg Census Area    left_only     10\n",
       "              Petersburg Borough        right_only    10\n",
       "              Kusilvak Census Area      right_only    10\n",
       "dtype: int64"
      ]
     },
     "execution_count": 14,
     "metadata": {},
     "output_type": "execute_result"
    }
   ],
   "source": [
    "disjoint = (\n",
    "    merge[merge[\"_merge\"] != \"both\"]\n",
    "    .sort_values(by=[\"STNAME\", \"CTYNAME\"])[[\"STNAME\", \"CTYNAME\", \"_merge\"]]\n",
    "    .value_counts()\n",
    ")\n",
    "\n",
    "disjoint"
   ]
  },
  {
   "cell_type": "markdown",
   "metadata": {},
   "source": [
    "#### Shannon County -> Oglala Lakota County (2015)\n",
    "#### Need to correct La Salle Parish to LaSalle Parish\n",
    "#### Wade Hampton Census Area -> Kusilvak Census Area (2010)\n",
    "#### Petersburg Census Area -> Petersburg Borough\n",
    "#### Bedford City incorporated into Bedford County (2013)"
   ]
  },
  {
   "cell_type": "code",
   "execution_count": 15,
   "metadata": {},
   "outputs": [],
   "source": [
    "# df.loc[(df['county'] == \"old name\") & (df['state'] == 'tx'), 'county'] =new"
   ]
  },
  {
   "cell_type": "code",
   "execution_count": 16,
   "metadata": {},
   "outputs": [],
   "source": [
    "replacements = [\n",
    "    (\"Virginia\", (\"Bedford city\", \"Bedford County\")),\n",
    "    (\"South Dakota\", (\"Shannon County\", \"Oglala Lakota County\")),\n",
    "    (\"Louisiana\", (\"La Salle Parish\", \"LaSalle Parish\")),\n",
    "    (\"Alaska\", (\"Wade Hampton Census Area\", \"Kusilvak Census Area\")),\n",
    "    (\"Alaska\", (\"Petersburg Census Area\", \"Petersburg Borough\")),\n",
    "]"
   ]
  },
  {
   "cell_type": "code",
   "execution_count": 17,
   "metadata": {},
   "outputs": [],
   "source": [
    "for item in replacements:\n",
    "    state, county = item\n",
    "    old, new = county\n",
    "    pop_00_09.loc[\n",
    "        (pop_00_09[\"CTYNAME\"] == old) & (pop_00_09[\"STNAME\"] == state), \"CTYNAME\"\n",
    "    ] = new"
   ]
  },
  {
   "cell_type": "code",
   "execution_count": 18,
   "metadata": {},
   "outputs": [],
   "source": [
    "pop_00_09 = pop_00_09.groupby([\"STNAME\", \"CTYNAME\", \"YEAR\"]).sum()"
   ]
  },
  {
   "cell_type": "code",
   "execution_count": 19,
   "metadata": {},
   "outputs": [],
   "source": [
    "pop_00_09.reset_index(inplace=True)"
   ]
  },
  {
   "cell_type": "code",
   "execution_count": 20,
   "metadata": {},
   "outputs": [],
   "source": [
    "merge = pd.merge(\n",
    "    pop_00_09, pop_10_19, on=[\"STNAME\", \"CTYNAME\"], how=\"outer\", indicator=True\n",
    ")\n",
    "assert merge[merge[\"_merge\"] != \"both\"].isnull().all().all()"
   ]
  },
  {
   "cell_type": "code",
   "execution_count": 21,
   "metadata": {},
   "outputs": [],
   "source": [
    "pop_00_19 = pop_00_09.append(pop_10_19)\n",
    "pop_00_19 = pop_00_19.groupby([\"STNAME\", \"CTYNAME\", \"YEAR\"]).sum().reset_index()\n",
    "assert not pop_00_19.duplicated().any()"
   ]
  },
  {
   "cell_type": "code",
   "execution_count": 22,
   "metadata": {},
   "outputs": [],
   "source": [
    "pop_00_19.to_csv(\"../20_intermediate_files/FinalPopDataset.csv\", index=False)"
   ]
  }
 ],
 "metadata": {
  "kernelspec": {
   "display_name": "Python 3",
   "language": "python",
   "name": "python3"
  },
  "language_info": {
   "codemirror_mode": {
    "name": "ipython",
    "version": 3
   },
   "file_extension": ".py",
   "mimetype": "text/x-python",
   "name": "python",
   "nbconvert_exporter": "python",
   "pygments_lexer": "ipython3",
   "version": "3.7.3"
  }
 },
 "nbformat": 4,
 "nbformat_minor": 4
}
